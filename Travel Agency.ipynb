{
 "cells": [
  {
   "cell_type": "markdown",
   "metadata": {
    "id": "2uZ-FTALv68S"
   },
   "source": [
    "# Case Study\n",
    "\n",
    "## Clustering Travel Agency Booking Data"
   ]
  },
  {
   "cell_type": "markdown",
   "metadata": {},
   "source": [
    "## Scenario\n",
    "\n",
    "Suppose you are a data scientist at the Travel Agency, and you are assigned to do Customer Segmentation with the available data.\n",
    "This assumes not only running clustering but also interpreting the results and providing actionable insights.\n",
    "\n",
    "\n"
   ]
  },
  {
   "cell_type": "code",
   "execution_count": 44,
   "metadata": {
    "executionInfo": {
     "elapsed": 563,
     "status": "ok",
     "timestamp": 1683273151998,
     "user": {
      "displayName": "Anahit Doshoyan",
      "userId": "09573357001785357894"
     },
     "user_tz": -240
    },
    "id": "HO1OQ4lbO0HJ"
   },
   "outputs": [],
   "source": [
    "# Import packages\n",
    "import pandas as pd\n",
    "import numpy as np\n",
    "import statsmodels as sm\n",
    "import pylab as pl\n",
    "from scipy import stats\n",
    "from sklearn import preprocessing\n",
    "from sklearn import cluster, tree, decomposition\n",
    "import matplotlib.pyplot as plt\n",
    "import pydot\n",
    "import seaborn as sns\n",
    "import warnings\n",
    "\n",
    "# Ignore all warnings\n",
    "warnings.filterwarnings(\"ignore\")\n"
   ]
  },
  {
   "cell_type": "code",
   "execution_count": 18,
   "metadata": {
    "executionInfo": {
     "elapsed": 662,
     "status": "ok",
     "timestamp": 1683273423376,
     "user": {
      "displayName": "Anahit Doshoyan",
      "userId": "09573357001785357894"
     },
     "user_tz": -240
    },
    "id": "1Y3XiQQ1PfZz"
   },
   "outputs": [],
   "source": [
    "# Loading data\n",
    "file_name = \"data/travel.csv\"\n",
    "travel = pd.read_csv(file_name, parse_dates=['srch_ci','date_time','srch_co'])"
   ]
  },
  {
   "cell_type": "code",
   "execution_count": 19,
   "metadata": {
    "colab": {
     "base_uri": "https://localhost:8080/",
     "height": 661
    },
    "executionInfo": {
     "elapsed": 4,
     "status": "ok",
     "timestamp": 1683273427042,
     "user": {
      "displayName": "Anahit Doshoyan",
      "userId": "09573357001785357894"
     },
     "user_tz": -240
    },
    "id": "CmljTE2C5gob",
    "outputId": "1c688f13-a575-4761-b8a7-b3c4d8e535af"
   },
   "outputs": [
    {
     "data": {
      "text/html": [
       "<div>\n",
       "<style scoped>\n",
       "    .dataframe tbody tr th:only-of-type {\n",
       "        vertical-align: middle;\n",
       "    }\n",
       "\n",
       "    .dataframe tbody tr th {\n",
       "        vertical-align: top;\n",
       "    }\n",
       "\n",
       "    .dataframe thead th {\n",
       "        text-align: right;\n",
       "    }\n",
       "</style>\n",
       "<table border=\"1\" class=\"dataframe\">\n",
       "  <thead>\n",
       "    <tr style=\"text-align: right;\">\n",
       "      <th></th>\n",
       "      <th>date_time</th>\n",
       "      <th>site_name</th>\n",
       "      <th>posa_continent</th>\n",
       "      <th>user_location_country</th>\n",
       "      <th>user_location_region</th>\n",
       "      <th>user_location_city</th>\n",
       "      <th>orig_destination_distance</th>\n",
       "      <th>user_id</th>\n",
       "      <th>is_mobile</th>\n",
       "      <th>is_package</th>\n",
       "      <th>channel</th>\n",
       "      <th>srch_ci</th>\n",
       "      <th>srch_co</th>\n",
       "      <th>srch_adults_cnt</th>\n",
       "      <th>srch_children_cnt</th>\n",
       "      <th>srch_rm_cnt</th>\n",
       "      <th>srch_destination_id</th>\n",
       "      <th>srch_destination_type_id</th>\n",
       "      <th>is_booking</th>\n",
       "      <th>cnt</th>\n",
       "      <th>hotel_continent</th>\n",
       "      <th>hotel_country</th>\n",
       "      <th>hotel_market</th>\n",
       "      <th>hotel_cluster</th>\n",
       "    </tr>\n",
       "  </thead>\n",
       "  <tbody>\n",
       "    <tr>\n",
       "      <th>0</th>\n",
       "      <td>2014-11-03 16:02:00</td>\n",
       "      <td>24</td>\n",
       "      <td>2</td>\n",
       "      <td>77</td>\n",
       "      <td>871</td>\n",
       "      <td>36643</td>\n",
       "      <td>456.1151</td>\n",
       "      <td>792280</td>\n",
       "      <td>0</td>\n",
       "      <td>1</td>\n",
       "      <td>1</td>\n",
       "      <td>2014-12-15</td>\n",
       "      <td>2014-12-19</td>\n",
       "      <td>2</td>\n",
       "      <td>0</td>\n",
       "      <td>1</td>\n",
       "      <td>8286</td>\n",
       "      <td>1</td>\n",
       "      <td>0</td>\n",
       "      <td>1</td>\n",
       "      <td>0</td>\n",
       "      <td>63</td>\n",
       "      <td>1258</td>\n",
       "      <td>68</td>\n",
       "    </tr>\n",
       "    <tr>\n",
       "      <th>1</th>\n",
       "      <td>2013-03-13 19:25:00</td>\n",
       "      <td>11</td>\n",
       "      <td>3</td>\n",
       "      <td>205</td>\n",
       "      <td>135</td>\n",
       "      <td>38749</td>\n",
       "      <td>232.4737</td>\n",
       "      <td>961995</td>\n",
       "      <td>0</td>\n",
       "      <td>0</td>\n",
       "      <td>9</td>\n",
       "      <td>2013-03-13</td>\n",
       "      <td>2013-03-14</td>\n",
       "      <td>2</td>\n",
       "      <td>0</td>\n",
       "      <td>1</td>\n",
       "      <td>1842</td>\n",
       "      <td>3</td>\n",
       "      <td>0</td>\n",
       "      <td>1</td>\n",
       "      <td>2</td>\n",
       "      <td>198</td>\n",
       "      <td>786</td>\n",
       "      <td>37</td>\n",
       "    </tr>\n",
       "    <tr>\n",
       "      <th>2</th>\n",
       "      <td>2014-10-13 13:20:00</td>\n",
       "      <td>2</td>\n",
       "      <td>3</td>\n",
       "      <td>66</td>\n",
       "      <td>314</td>\n",
       "      <td>48562</td>\n",
       "      <td>4468.2720</td>\n",
       "      <td>495669</td>\n",
       "      <td>0</td>\n",
       "      <td>1</td>\n",
       "      <td>9</td>\n",
       "      <td>2015-04-03</td>\n",
       "      <td>2015-04-10</td>\n",
       "      <td>2</td>\n",
       "      <td>0</td>\n",
       "      <td>1</td>\n",
       "      <td>8746</td>\n",
       "      <td>1</td>\n",
       "      <td>0</td>\n",
       "      <td>1</td>\n",
       "      <td>6</td>\n",
       "      <td>105</td>\n",
       "      <td>29</td>\n",
       "      <td>22</td>\n",
       "    </tr>\n",
       "    <tr>\n",
       "      <th>3</th>\n",
       "      <td>2013-11-05 10:40:00</td>\n",
       "      <td>11</td>\n",
       "      <td>3</td>\n",
       "      <td>205</td>\n",
       "      <td>411</td>\n",
       "      <td>52752</td>\n",
       "      <td>171.6021</td>\n",
       "      <td>106611</td>\n",
       "      <td>0</td>\n",
       "      <td>0</td>\n",
       "      <td>0</td>\n",
       "      <td>2013-11-07</td>\n",
       "      <td>2013-11-08</td>\n",
       "      <td>2</td>\n",
       "      <td>0</td>\n",
       "      <td>1</td>\n",
       "      <td>6210</td>\n",
       "      <td>3</td>\n",
       "      <td>1</td>\n",
       "      <td>1</td>\n",
       "      <td>2</td>\n",
       "      <td>198</td>\n",
       "      <td>1234</td>\n",
       "      <td>42</td>\n",
       "    </tr>\n",
       "    <tr>\n",
       "      <th>4</th>\n",
       "      <td>2014-06-10 13:34:00</td>\n",
       "      <td>2</td>\n",
       "      <td>3</td>\n",
       "      <td>66</td>\n",
       "      <td>174</td>\n",
       "      <td>50644</td>\n",
       "      <td>NaN</td>\n",
       "      <td>596177</td>\n",
       "      <td>0</td>\n",
       "      <td>0</td>\n",
       "      <td>9</td>\n",
       "      <td>2014-08-03</td>\n",
       "      <td>2014-08-08</td>\n",
       "      <td>2</td>\n",
       "      <td>1</td>\n",
       "      <td>1</td>\n",
       "      <td>12812</td>\n",
       "      <td>5</td>\n",
       "      <td>0</td>\n",
       "      <td>1</td>\n",
       "      <td>2</td>\n",
       "      <td>50</td>\n",
       "      <td>368</td>\n",
       "      <td>83</td>\n",
       "    </tr>\n",
       "  </tbody>\n",
       "</table>\n",
       "</div>"
      ],
      "text/plain": [
       "            date_time  site_name  posa_continent  user_location_country  \\\n",
       "0 2014-11-03 16:02:00         24               2                     77   \n",
       "1 2013-03-13 19:25:00         11               3                    205   \n",
       "2 2014-10-13 13:20:00          2               3                     66   \n",
       "3 2013-11-05 10:40:00         11               3                    205   \n",
       "4 2014-06-10 13:34:00          2               3                     66   \n",
       "\n",
       "   user_location_region  user_location_city  orig_destination_distance  \\\n",
       "0                   871               36643                   456.1151   \n",
       "1                   135               38749                   232.4737   \n",
       "2                   314               48562                  4468.2720   \n",
       "3                   411               52752                   171.6021   \n",
       "4                   174               50644                        NaN   \n",
       "\n",
       "   user_id  is_mobile  is_package  channel    srch_ci    srch_co  \\\n",
       "0   792280          0           1        1 2014-12-15 2014-12-19   \n",
       "1   961995          0           0        9 2013-03-13 2013-03-14   \n",
       "2   495669          0           1        9 2015-04-03 2015-04-10   \n",
       "3   106611          0           0        0 2013-11-07 2013-11-08   \n",
       "4   596177          0           0        9 2014-08-03 2014-08-08   \n",
       "\n",
       "   srch_adults_cnt  srch_children_cnt  srch_rm_cnt  srch_destination_id  \\\n",
       "0                2                  0            1                 8286   \n",
       "1                2                  0            1                 1842   \n",
       "2                2                  0            1                 8746   \n",
       "3                2                  0            1                 6210   \n",
       "4                2                  1            1                12812   \n",
       "\n",
       "   srch_destination_type_id  is_booking  cnt  hotel_continent  hotel_country  \\\n",
       "0                         1           0    1                0             63   \n",
       "1                         3           0    1                2            198   \n",
       "2                         1           0    1                6            105   \n",
       "3                         3           1    1                2            198   \n",
       "4                         5           0    1                2             50   \n",
       "\n",
       "   hotel_market  hotel_cluster  \n",
       "0          1258             68  \n",
       "1           786             37  \n",
       "2            29             22  \n",
       "3          1234             42  \n",
       "4           368             83  "
      ]
     },
     "execution_count": 19,
     "metadata": {},
     "output_type": "execute_result"
    }
   ],
   "source": [
    "pd.set_option('display.max_columns', None)\n",
    "\n",
    "travel.head()"
   ]
  },
  {
   "cell_type": "code",
   "execution_count": 20,
   "metadata": {
    "colab": {
     "base_uri": "https://localhost:8080/"
    },
    "executionInfo": {
     "elapsed": 465,
     "status": "ok",
     "timestamp": 1683273429906,
     "user": {
      "displayName": "Anahit Doshoyan",
      "userId": "09573357001785357894"
     },
     "user_tz": -240
    },
    "id": "g3khZLYXQEUj",
    "outputId": "768933f4-5f7d-424d-eba4-7044b89411e7"
   },
   "outputs": [
    {
     "name": "stdout",
     "output_type": "stream",
     "text": [
      "Number of Rows: 100000\n"
     ]
    }
   ],
   "source": [
    "# Preview our data\n",
    "print('Number of Rows: {}'.format(travel.shape[0]))"
   ]
  },
  {
   "cell_type": "markdown",
   "metadata": {
    "id": "0QBoe5GC4ECG"
   },
   "source": [
    "## Dataset size"
   ]
  },
  {
   "cell_type": "code",
   "execution_count": 21,
   "metadata": {
    "colab": {
     "base_uri": "https://localhost:8080/"
    },
    "executionInfo": {
     "elapsed": 4,
     "status": "ok",
     "timestamp": 1683273443354,
     "user": {
      "displayName": "Anahit Doshoyan",
      "userId": "09573357001785357894"
     },
     "user_tz": -240
    },
    "id": "u-HIEzfL6Asm",
    "outputId": "f8053291-4b61-4fb4-bc85-5ad879540cc1"
   },
   "outputs": [
    {
     "name": "stdout",
     "output_type": "stream",
     "text": [
      "Rows:    100000\n",
      "Columns:  24\n"
     ]
    }
   ],
   "source": [
    "# Get some base information on our dataset\n",
    "print (\"Rows:   \" , travel.shape[0])\n",
    "print (\"Columns: \" , travel.shape[1])"
   ]
  },
  {
   "cell_type": "markdown",
   "metadata": {
    "id": "8tRwczpO4ECH"
   },
   "source": [
    "## Missing Values\n",
    "\n",
    "As we can see `orig_destination_distance` column has a large amount of missing values. Taking into account, that we cannot infer anything from other features, we will simply remove the feature from further analysis."
   ]
  },
  {
   "cell_type": "code",
   "execution_count": 22,
   "metadata": {
    "colab": {
     "base_uri": "https://localhost:8080/"
    },
    "executionInfo": {
     "elapsed": 4,
     "status": "ok",
     "timestamp": 1683273445071,
     "user": {
      "displayName": "Anahit Doshoyan",
      "userId": "09573357001785357894"
     },
     "user_tz": -240
    },
    "id": "V0AsnTHOQTWP",
    "outputId": "979b79b2-5df0-46f8-d1f4-0b02a51c1554"
   },
   "outputs": [
    {
     "data": {
      "text/plain": [
       "date_time                        0\n",
       "site_name                        0\n",
       "posa_continent                   0\n",
       "user_location_country            0\n",
       "user_location_region             0\n",
       "user_location_city               0\n",
       "orig_destination_distance    36085\n",
       "user_id                          0\n",
       "is_mobile                        0\n",
       "is_package                       0\n",
       "channel                          0\n",
       "srch_ci                        122\n",
       "srch_co                        122\n",
       "srch_adults_cnt                  0\n",
       "srch_children_cnt                0\n",
       "srch_rm_cnt                      0\n",
       "srch_destination_id              0\n",
       "srch_destination_type_id         0\n",
       "is_booking                       0\n",
       "cnt                              0\n",
       "hotel_continent                  0\n",
       "hotel_country                    0\n",
       "hotel_market                     0\n",
       "hotel_cluster                    0\n",
       "dtype: int64"
      ]
     },
     "execution_count": 22,
     "metadata": {},
     "output_type": "execute_result"
    }
   ],
   "source": [
    "# Get statistics for our Numerical Columns\n",
    "travel.isnull().sum()"
   ]
  },
  {
   "cell_type": "markdown",
   "metadata": {
    "id": "zL851soc4ECI"
   },
   "source": [
    "## Correlation Matrix\n",
    "\n",
    "Let's see whic features are correlated. First we should build `corr` object and then visualize using heatmap from `seaborn`.\n",
    "\n",
    "**What could you infer?**"
   ]
  },
  {
   "cell_type": "code",
   "execution_count": 23,
   "metadata": {
    "colab": {
     "base_uri": "https://localhost:8080/"
    },
    "executionInfo": {
     "elapsed": 495,
     "status": "ok",
     "timestamp": 1683273448024,
     "user": {
      "displayName": "Anahit Doshoyan",
      "userId": "09573357001785357894"
     },
     "user_tz": -240
    },
    "id": "wjCvFqT3agaQ",
    "outputId": "c6d874d4-b29c-418d-9639-2eb827f737d8"
   },
   "outputs": [],
   "source": [
    "# Create our Corelation Matrix\n",
    "corr = travel.corr()"
   ]
  },
  {
   "cell_type": "code",
   "execution_count": 24,
   "metadata": {
    "colab": {
     "base_uri": "https://localhost:8080/",
     "height": 884
    },
    "executionInfo": {
     "elapsed": 1802,
     "status": "ok",
     "timestamp": 1683273449818,
     "user": {
      "displayName": "Anahit Doshoyan",
      "userId": "09573357001785357894"
     },
     "user_tz": -240
    },
    "id": "1v8W7282aVaA",
    "outputId": "03c7e83c-4d3f-4f08-f988-b445ea05d9b2",
    "scrolled": true
   },
   "outputs": [
    {
     "data": {
      "text/plain": [
       "Text(0.5, 1.0, 'Heatmap of Correlation Matrix')"
      ]
     },
     "execution_count": 24,
     "metadata": {},
     "output_type": "execute_result"
    },
    {
     "data": {
      "image/png": "[encoded data removed]",
      "text/plain": [
       "<Figure size 1000x1000 with 2 Axes>"
      ]
     },
     "metadata": {},
     "output_type": "display_data"
    }
   ],
   "source": [
    "# Generate our corelation plot or heatmap\n",
    "plt.figure(figsize = (10,10))\n",
    "\n",
    "sns.heatmap(corr,xticklabels=corr.columns.values,\n",
    "           yticklabels=corr.columns.values,vmax=.3, center=0, square=True, linewidths=.5, cbar_kws={\"shrink\": .82})\n",
    "plt.title('Heatmap of Correlation Matrix')"
   ]
  },
  {
   "cell_type": "markdown",
   "metadata": {
    "id": "QwkvNGrC4ECJ"
   },
   "source": [
    "## Distributions\n",
    "\n",
    "What could you say about this?"
   ]
  },
  {
   "cell_type": "code",
   "execution_count": 24,
   "metadata": {
    "colab": {
     "base_uri": "https://localhost:8080/",
     "height": 1000
    },
    "executionInfo": {
     "elapsed": 4238,
     "status": "ok",
     "timestamp": 1683273455916,
     "user": {
      "displayName": "Anahit Doshoyan",
      "userId": "09573357001785357894"
     },
     "user_tz": -240
    },
    "id": "kv4uQo4XantH",
    "outputId": "16d07ad7-3330-4200-a043-3aff399e9d36"
   },
   "outputs": [
    {
     "data": {
      "text/plain": [
       "array([[<Axes: title={'center': 'channel'}>,\n",
       "        <Axes: title={'center': 'is_booking'}>,\n",
       "        <Axes: title={'center': 'is_mobile'}>],\n",
       "       [<Axes: title={'center': 'orig_destination_distance'}>,\n",
       "        <Axes: title={'center': 'srch_rm_cnt'}>,\n",
       "        <Axes: title={'center': 'srch_adults_cnt'}>],\n",
       "       [<Axes: title={'center': 'srch_children_cnt'}>, <Axes: >,\n",
       "        <Axes: >]], dtype=object)"
      ]
     },
     "execution_count": 24,
     "metadata": {},
     "output_type": "execute_result"
    },
    {
     "data": {
      "image/png": "[encoded data removed]",
      "text/plain": [
       "<Figure size 1000x1200 with 9 Axes>"
      ]
     },
     "metadata": {},
     "output_type": "display_data"
    }
   ],
   "source": [
    "# Plot some of the data\n",
    "travel[['channel', 'is_booking', 'is_mobile', 'orig_destination_distance',\n",
    "        'srch_rm_cnt', 'srch_adults_cnt', 'srch_children_cnt']].hist(figsize=(10,12))"
   ]
  },
  {
   "cell_type": "code",
   "execution_count": 25,
   "metadata": {
    "colab": {
     "base_uri": "https://localhost:8080/",
     "height": 455
    },
    "executionInfo": {
     "elapsed": 8,
     "status": "ok",
     "timestamp": 1683273463874,
     "user": {
      "displayName": "Anahit Doshoyan",
      "userId": "09573357001785357894"
     },
     "user_tz": -240
    },
    "id": "DLufN3EX4ECK",
    "outputId": "f72450cd-3083-4f36-de7e-2baab74e289b"
   },
   "outputs": [
    {
     "data": {
      "text/html": [
       "<div>\n",
       "<style scoped>\n",
       "    .dataframe tbody tr th:only-of-type {\n",
       "        vertical-align: middle;\n",
       "    }\n",
       "\n",
       "    .dataframe tbody tr th {\n",
       "        vertical-align: top;\n",
       "    }\n",
       "\n",
       "    .dataframe thead th {\n",
       "        text-align: right;\n",
       "    }\n",
       "</style>\n",
       "<table border=\"1\" class=\"dataframe\">\n",
       "  <thead>\n",
       "    <tr style=\"text-align: right;\">\n",
       "      <th></th>\n",
       "      <th>num_of_bookings</th>\n",
       "    </tr>\n",
       "    <tr>\n",
       "      <th>user_id</th>\n",
       "      <th></th>\n",
       "    </tr>\n",
       "  </thead>\n",
       "  <tbody>\n",
       "    <tr>\n",
       "      <th>14</th>\n",
       "      <td>1</td>\n",
       "    </tr>\n",
       "    <tr>\n",
       "      <th>38</th>\n",
       "      <td>1</td>\n",
       "    </tr>\n",
       "    <tr>\n",
       "      <th>40</th>\n",
       "      <td>1</td>\n",
       "    </tr>\n",
       "    <tr>\n",
       "      <th>156</th>\n",
       "      <td>2</td>\n",
       "    </tr>\n",
       "    <tr>\n",
       "      <th>160</th>\n",
       "      <td>1</td>\n",
       "    </tr>\n",
       "    <tr>\n",
       "      <th>...</th>\n",
       "      <td>...</td>\n",
       "    </tr>\n",
       "    <tr>\n",
       "      <th>1198722</th>\n",
       "      <td>1</td>\n",
       "    </tr>\n",
       "    <tr>\n",
       "      <th>1198742</th>\n",
       "      <td>1</td>\n",
       "    </tr>\n",
       "    <tr>\n",
       "      <th>1198748</th>\n",
       "      <td>1</td>\n",
       "    </tr>\n",
       "    <tr>\n",
       "      <th>1198776</th>\n",
       "      <td>1</td>\n",
       "    </tr>\n",
       "    <tr>\n",
       "      <th>1198783</th>\n",
       "      <td>2</td>\n",
       "    </tr>\n",
       "  </tbody>\n",
       "</table>\n",
       "<p>88863 rows × 1 columns</p>\n",
       "</div>"
      ],
      "text/plain": [
       "         num_of_bookings\n",
       "user_id                 \n",
       "14                     1\n",
       "38                     1\n",
       "40                     1\n",
       "156                    2\n",
       "160                    1\n",
       "...                  ...\n",
       "1198722                1\n",
       "1198742                1\n",
       "1198748                1\n",
       "1198776                1\n",
       "1198783                2\n",
       "\n",
       "[88863 rows x 1 columns]"
      ]
     },
     "execution_count": 25,
     "metadata": {},
     "output_type": "execute_result"
    }
   ],
   "source": [
    "travel.groupby('user_id')['is_booking'].agg(num_of_bookings='count')"
   ]
  },
  {
   "cell_type": "markdown",
   "metadata": {
    "id": "RulqDPDW4ECK"
   },
   "source": [
    "Enriching the dataset with new feature."
   ]
  },
  {
   "cell_type": "markdown",
   "metadata": {
    "id": "B-93jIelc5d_"
   },
   "source": [
    "#### Visualizing the above output"
   ]
  },
  {
   "cell_type": "code",
   "execution_count": 26,
   "metadata": {
    "colab": {
     "base_uri": "https://localhost:8080/"
    },
    "executionInfo": {
     "elapsed": 8,
     "status": "ok",
     "timestamp": 1683273465903,
     "user": {
      "displayName": "Anahit Doshoyan",
      "userId": "09573357001785357894"
     },
     "user_tz": -240
    },
    "id": "DBAQ7ymMeO3W",
    "outputId": "9c457e2a-9b09-4654-b258-6742ac4ac05a"
   },
   "outputs": [
    {
     "data": {
      "text/plain": [
       "num_of_bookings\n",
       "1    79189\n",
       "2     8423\n",
       "3     1065\n",
       "4      161\n",
       "5       24\n",
       "6        1\n",
       "Name: user_id, dtype: int64"
      ]
     },
     "execution_count": 26,
     "metadata": {},
     "output_type": "execute_result"
    }
   ],
   "source": [
    "# To view the bookings made per user\n",
    "booking_count_per_user=travel.groupby('user_id')['is_booking'].agg(num_of_bookings='count').reset_index()\n",
    "booking_count_per_user.groupby('num_of_bookings')['user_id'].agg('count')"
   ]
  },
  {
   "cell_type": "code",
   "execution_count": 27,
   "metadata": {
    "colab": {
     "base_uri": "https://localhost:8080/",
     "height": 409
    },
    "executionInfo": {
     "elapsed": 5,
     "status": "ok",
     "timestamp": 1683273395665,
     "user": {
      "displayName": "Anahit Doshoyan",
      "userId": "09573357001785357894"
     },
     "user_tz": -240
    },
    "id": "TFWQ1qw7HZBN",
    "outputId": "d95709b7-b07b-4a1e-c119-4b0d6e2f0172"
   },
   "outputs": [
    {
     "data": {
      "text/plain": [
       "array([[<Axes: title={'center': 'num_of_bookings'}>]], dtype=object)"
      ]
     },
     "execution_count": 27,
     "metadata": {},
     "output_type": "execute_result"
    },
    {
     "data": {
      "image/png": "[encoded data removed]",
      "text/plain": [
       "<Figure size 600x400 with 1 Axes>"
      ]
     },
     "metadata": {},
     "output_type": "display_data"
    }
   ],
   "source": [
    "booking_count_per_user[['num_of_bookings']].hist(figsize=(6,4))"
   ]
  },
  {
   "cell_type": "code",
   "execution_count": 28,
   "metadata": {
    "colab": {
     "base_uri": "https://localhost:8080/",
     "height": 386
    },
    "executionInfo": {
     "elapsed": 5,
     "status": "ok",
     "timestamp": 1683273465904,
     "user": {
      "displayName": "Anahit Doshoyan",
      "userId": "09573357001785357894"
     },
     "user_tz": -240
    },
    "id": "H5pZvJWrczi0",
    "outputId": "bc086b08-bfc5-477a-d6fc-68a0c3369dd8"
   },
   "outputs": [
    {
     "data": {
      "text/html": [
       "<div>\n",
       "<style scoped>\n",
       "    .dataframe tbody tr th:only-of-type {\n",
       "        vertical-align: middle;\n",
       "    }\n",
       "\n",
       "    .dataframe tbody tr th {\n",
       "        vertical-align: top;\n",
       "    }\n",
       "\n",
       "    .dataframe thead th {\n",
       "        text-align: right;\n",
       "    }\n",
       "</style>\n",
       "<table border=\"1\" class=\"dataframe\">\n",
       "  <thead>\n",
       "    <tr style=\"text-align: right;\">\n",
       "      <th></th>\n",
       "      <th>date_time</th>\n",
       "      <th>site_name</th>\n",
       "      <th>posa_continent</th>\n",
       "      <th>user_location_country</th>\n",
       "      <th>user_location_region</th>\n",
       "      <th>user_location_city</th>\n",
       "      <th>orig_destination_distance</th>\n",
       "      <th>user_id</th>\n",
       "      <th>is_mobile</th>\n",
       "      <th>is_package</th>\n",
       "      <th>channel</th>\n",
       "      <th>srch_ci</th>\n",
       "      <th>srch_co</th>\n",
       "      <th>srch_adults_cnt</th>\n",
       "      <th>srch_children_cnt</th>\n",
       "      <th>srch_rm_cnt</th>\n",
       "      <th>srch_destination_id</th>\n",
       "      <th>srch_destination_type_id</th>\n",
       "      <th>is_booking</th>\n",
       "      <th>cnt</th>\n",
       "      <th>hotel_continent</th>\n",
       "      <th>hotel_country</th>\n",
       "      <th>hotel_market</th>\n",
       "      <th>hotel_cluster</th>\n",
       "      <th>count</th>\n",
       "    </tr>\n",
       "  </thead>\n",
       "  <tbody>\n",
       "    <tr>\n",
       "      <th>0</th>\n",
       "      <td>2014-11-03 16:02:00</td>\n",
       "      <td>24</td>\n",
       "      <td>2</td>\n",
       "      <td>77</td>\n",
       "      <td>871</td>\n",
       "      <td>36643</td>\n",
       "      <td>456.1151</td>\n",
       "      <td>792280</td>\n",
       "      <td>0</td>\n",
       "      <td>1</td>\n",
       "      <td>1</td>\n",
       "      <td>2014-12-15</td>\n",
       "      <td>2014-12-19</td>\n",
       "      <td>2</td>\n",
       "      <td>0</td>\n",
       "      <td>1</td>\n",
       "      <td>8286</td>\n",
       "      <td>1</td>\n",
       "      <td>0</td>\n",
       "      <td>1</td>\n",
       "      <td>0</td>\n",
       "      <td>63</td>\n",
       "      <td>1258</td>\n",
       "      <td>68</td>\n",
       "      <td>2</td>\n",
       "    </tr>\n",
       "    <tr>\n",
       "      <th>1</th>\n",
       "      <td>2014-07-28 23:50:00</td>\n",
       "      <td>24</td>\n",
       "      <td>2</td>\n",
       "      <td>77</td>\n",
       "      <td>871</td>\n",
       "      <td>36643</td>\n",
       "      <td>454.4611</td>\n",
       "      <td>792280</td>\n",
       "      <td>0</td>\n",
       "      <td>1</td>\n",
       "      <td>9</td>\n",
       "      <td>2014-08-26</td>\n",
       "      <td>2014-08-31</td>\n",
       "      <td>1</td>\n",
       "      <td>0</td>\n",
       "      <td>1</td>\n",
       "      <td>8286</td>\n",
       "      <td>1</td>\n",
       "      <td>0</td>\n",
       "      <td>1</td>\n",
       "      <td>0</td>\n",
       "      <td>63</td>\n",
       "      <td>1258</td>\n",
       "      <td>14</td>\n",
       "      <td>2</td>\n",
       "    </tr>\n",
       "    <tr>\n",
       "      <th>2</th>\n",
       "      <td>2013-03-13 19:25:00</td>\n",
       "      <td>11</td>\n",
       "      <td>3</td>\n",
       "      <td>205</td>\n",
       "      <td>135</td>\n",
       "      <td>38749</td>\n",
       "      <td>232.4737</td>\n",
       "      <td>961995</td>\n",
       "      <td>0</td>\n",
       "      <td>0</td>\n",
       "      <td>9</td>\n",
       "      <td>2013-03-13</td>\n",
       "      <td>2013-03-14</td>\n",
       "      <td>2</td>\n",
       "      <td>0</td>\n",
       "      <td>1</td>\n",
       "      <td>1842</td>\n",
       "      <td>3</td>\n",
       "      <td>0</td>\n",
       "      <td>1</td>\n",
       "      <td>2</td>\n",
       "      <td>198</td>\n",
       "      <td>786</td>\n",
       "      <td>37</td>\n",
       "      <td>1</td>\n",
       "    </tr>\n",
       "    <tr>\n",
       "      <th>3</th>\n",
       "      <td>2014-10-13 13:20:00</td>\n",
       "      <td>2</td>\n",
       "      <td>3</td>\n",
       "      <td>66</td>\n",
       "      <td>314</td>\n",
       "      <td>48562</td>\n",
       "      <td>4468.2720</td>\n",
       "      <td>495669</td>\n",
       "      <td>0</td>\n",
       "      <td>1</td>\n",
       "      <td>9</td>\n",
       "      <td>2015-04-03</td>\n",
       "      <td>2015-04-10</td>\n",
       "      <td>2</td>\n",
       "      <td>0</td>\n",
       "      <td>1</td>\n",
       "      <td>8746</td>\n",
       "      <td>1</td>\n",
       "      <td>0</td>\n",
       "      <td>1</td>\n",
       "      <td>6</td>\n",
       "      <td>105</td>\n",
       "      <td>29</td>\n",
       "      <td>22</td>\n",
       "      <td>1</td>\n",
       "    </tr>\n",
       "    <tr>\n",
       "      <th>4</th>\n",
       "      <td>2013-11-05 10:40:00</td>\n",
       "      <td>11</td>\n",
       "      <td>3</td>\n",
       "      <td>205</td>\n",
       "      <td>411</td>\n",
       "      <td>52752</td>\n",
       "      <td>171.6021</td>\n",
       "      <td>106611</td>\n",
       "      <td>0</td>\n",
       "      <td>0</td>\n",
       "      <td>0</td>\n",
       "      <td>2013-11-07</td>\n",
       "      <td>2013-11-08</td>\n",
       "      <td>2</td>\n",
       "      <td>0</td>\n",
       "      <td>1</td>\n",
       "      <td>6210</td>\n",
       "      <td>3</td>\n",
       "      <td>1</td>\n",
       "      <td>1</td>\n",
       "      <td>2</td>\n",
       "      <td>198</td>\n",
       "      <td>1234</td>\n",
       "      <td>42</td>\n",
       "      <td>2</td>\n",
       "    </tr>\n",
       "  </tbody>\n",
       "</table>\n",
       "</div>"
      ],
      "text/plain": [
       "            date_time  site_name  posa_continent  user_location_country  \\\n",
       "0 2014-11-03 16:02:00         24               2                     77   \n",
       "1 2014-07-28 23:50:00         24               2                     77   \n",
       "2 2013-03-13 19:25:00         11               3                    205   \n",
       "3 2014-10-13 13:20:00          2               3                     66   \n",
       "4 2013-11-05 10:40:00         11               3                    205   \n",
       "\n",
       "   user_location_region  user_location_city  orig_destination_distance  \\\n",
       "0                   871               36643                   456.1151   \n",
       "1                   871               36643                   454.4611   \n",
       "2                   135               38749                   232.4737   \n",
       "3                   314               48562                  4468.2720   \n",
       "4                   411               52752                   171.6021   \n",
       "\n",
       "   user_id  is_mobile  is_package  channel    srch_ci    srch_co  \\\n",
       "0   792280          0           1        1 2014-12-15 2014-12-19   \n",
       "1   792280          0           1        9 2014-08-26 2014-08-31   \n",
       "2   961995          0           0        9 2013-03-13 2013-03-14   \n",
       "3   495669          0           1        9 2015-04-03 2015-04-10   \n",
       "4   106611          0           0        0 2013-11-07 2013-11-08   \n",
       "\n",
       "   srch_adults_cnt  srch_children_cnt  srch_rm_cnt  srch_destination_id  \\\n",
       "0                2                  0            1                 8286   \n",
       "1                1                  0            1                 8286   \n",
       "2                2                  0            1                 1842   \n",
       "3                2                  0            1                 8746   \n",
       "4                2                  0            1                 6210   \n",
       "\n",
       "   srch_destination_type_id  is_booking  cnt  hotel_continent  hotel_country  \\\n",
       "0                         1           0    1                0             63   \n",
       "1                         1           0    1                0             63   \n",
       "2                         3           0    1                2            198   \n",
       "3                         1           0    1                6            105   \n",
       "4                         3           1    1                2            198   \n",
       "\n",
       "   hotel_market  hotel_cluster  count  \n",
       "0          1258             68      2  \n",
       "1          1258             14      2  \n",
       "2           786             37      1  \n",
       "3            29             22      1  \n",
       "4          1234             42      2  "
      ]
     },
     "execution_count": 28,
     "metadata": {},
     "output_type": "execute_result"
    }
   ],
   "source": [
    "# Merge this with our original dataframe to add our 'count' column\n",
    "travel = travel.merge(travel.groupby('user_id')['is_booking'].agg(['count']).reset_index())\n",
    "travel.head()"
   ]
  },
  {
   "cell_type": "markdown",
   "metadata": {
    "id": "ZnZJzo5fp6Qo"
   },
   "source": [
    "# Logical checks\n",
    "\n",
    "Remember, Data Scinetists cannot take data and immidetly start modeling. It is expected from the data professioanl to acquire domain knowledge.\n",
    "\n",
    "Taking into account that number of travelers should be greater then 0, we must remove 174 cases fro the data. Let's drop such cases.\n"
   ]
  },
  {
   "cell_type": "code",
   "execution_count": 29,
   "metadata": {
    "colab": {
     "base_uri": "https://localhost:8080/",
     "height": 394
    },
    "executionInfo": {
     "elapsed": 6,
     "status": "ok",
     "timestamp": 1683273467815,
     "user": {
      "displayName": "Anahit Doshoyan",
      "userId": "09573357001785357894"
     },
     "user_tz": -240
    },
    "id": "j1sAcptTfd9b",
    "outputId": "2ca5c22f-5736-489b-cf4b-37d31914b0e2"
   },
   "outputs": [
    {
     "data": {
      "text/html": [
       "<div>\n",
       "<style scoped>\n",
       "    .dataframe tbody tr th:only-of-type {\n",
       "        vertical-align: middle;\n",
       "    }\n",
       "\n",
       "    .dataframe tbody tr th {\n",
       "        vertical-align: top;\n",
       "    }\n",
       "\n",
       "    .dataframe thead th {\n",
       "        text-align: right;\n",
       "    }\n",
       "</style>\n",
       "<table border=\"1\" class=\"dataframe\">\n",
       "  <thead>\n",
       "    <tr style=\"text-align: right;\">\n",
       "      <th>srch_children_cnt</th>\n",
       "      <th>0</th>\n",
       "      <th>1</th>\n",
       "      <th>2</th>\n",
       "      <th>3</th>\n",
       "      <th>4</th>\n",
       "      <th>5</th>\n",
       "      <th>6</th>\n",
       "      <th>7</th>\n",
       "      <th>8</th>\n",
       "      <th>9</th>\n",
       "    </tr>\n",
       "    <tr>\n",
       "      <th>srch_adults_cnt</th>\n",
       "      <th></th>\n",
       "      <th></th>\n",
       "      <th></th>\n",
       "      <th></th>\n",
       "      <th></th>\n",
       "      <th></th>\n",
       "      <th></th>\n",
       "      <th></th>\n",
       "      <th></th>\n",
       "      <th></th>\n",
       "    </tr>\n",
       "  </thead>\n",
       "  <tbody>\n",
       "    <tr>\n",
       "      <th>0</th>\n",
       "      <td>174</td>\n",
       "      <td>2</td>\n",
       "      <td>3</td>\n",
       "      <td>2</td>\n",
       "      <td>0</td>\n",
       "      <td>0</td>\n",
       "      <td>0</td>\n",
       "      <td>0</td>\n",
       "      <td>0</td>\n",
       "      <td>0</td>\n",
       "    </tr>\n",
       "    <tr>\n",
       "      <th>1</th>\n",
       "      <td>18749</td>\n",
       "      <td>2137</td>\n",
       "      <td>523</td>\n",
       "      <td>117</td>\n",
       "      <td>11</td>\n",
       "      <td>1</td>\n",
       "      <td>9</td>\n",
       "      <td>1</td>\n",
       "      <td>2</td>\n",
       "      <td>0</td>\n",
       "    </tr>\n",
       "    <tr>\n",
       "      <th>2</th>\n",
       "      <td>50736</td>\n",
       "      <td>7093</td>\n",
       "      <td>6529</td>\n",
       "      <td>972</td>\n",
       "      <td>208</td>\n",
       "      <td>14</td>\n",
       "      <td>7</td>\n",
       "      <td>1</td>\n",
       "      <td>0</td>\n",
       "      <td>0</td>\n",
       "    </tr>\n",
       "    <tr>\n",
       "      <th>3</th>\n",
       "      <td>3645</td>\n",
       "      <td>1131</td>\n",
       "      <td>469</td>\n",
       "      <td>131</td>\n",
       "      <td>27</td>\n",
       "      <td>5</td>\n",
       "      <td>2</td>\n",
       "      <td>2</td>\n",
       "      <td>0</td>\n",
       "      <td>2</td>\n",
       "    </tr>\n",
       "    <tr>\n",
       "      <th>4</th>\n",
       "      <td>3933</td>\n",
       "      <td>690</td>\n",
       "      <td>494</td>\n",
       "      <td>77</td>\n",
       "      <td>83</td>\n",
       "      <td>9</td>\n",
       "      <td>4</td>\n",
       "      <td>0</td>\n",
       "      <td>0</td>\n",
       "      <td>0</td>\n",
       "    </tr>\n",
       "    <tr>\n",
       "      <th>5</th>\n",
       "      <td>535</td>\n",
       "      <td>131</td>\n",
       "      <td>41</td>\n",
       "      <td>20</td>\n",
       "      <td>6</td>\n",
       "      <td>4</td>\n",
       "      <td>2</td>\n",
       "      <td>0</td>\n",
       "      <td>0</td>\n",
       "      <td>0</td>\n",
       "    </tr>\n",
       "    <tr>\n",
       "      <th>6</th>\n",
       "      <td>669</td>\n",
       "      <td>73</td>\n",
       "      <td>53</td>\n",
       "      <td>28</td>\n",
       "      <td>18</td>\n",
       "      <td>13</td>\n",
       "      <td>7</td>\n",
       "      <td>0</td>\n",
       "      <td>0</td>\n",
       "      <td>0</td>\n",
       "    </tr>\n",
       "    <tr>\n",
       "      <th>7</th>\n",
       "      <td>99</td>\n",
       "      <td>20</td>\n",
       "      <td>5</td>\n",
       "      <td>8</td>\n",
       "      <td>6</td>\n",
       "      <td>3</td>\n",
       "      <td>0</td>\n",
       "      <td>0</td>\n",
       "      <td>0</td>\n",
       "      <td>0</td>\n",
       "    </tr>\n",
       "    <tr>\n",
       "      <th>8</th>\n",
       "      <td>183</td>\n",
       "      <td>12</td>\n",
       "      <td>13</td>\n",
       "      <td>2</td>\n",
       "      <td>6</td>\n",
       "      <td>1</td>\n",
       "      <td>3</td>\n",
       "      <td>2</td>\n",
       "      <td>2</td>\n",
       "      <td>1</td>\n",
       "    </tr>\n",
       "    <tr>\n",
       "      <th>9</th>\n",
       "      <td>24</td>\n",
       "      <td>5</td>\n",
       "      <td>4</td>\n",
       "      <td>2</td>\n",
       "      <td>1</td>\n",
       "      <td>1</td>\n",
       "      <td>2</td>\n",
       "      <td>0</td>\n",
       "      <td>0</td>\n",
       "      <td>0</td>\n",
       "    </tr>\n",
       "  </tbody>\n",
       "</table>\n",
       "</div>"
      ],
      "text/plain": [
       "srch_children_cnt      0     1     2    3    4   5  6  7  8  9\n",
       "srch_adults_cnt                                               \n",
       "0                    174     2     3    2    0   0  0  0  0  0\n",
       "1                  18749  2137   523  117   11   1  9  1  2  0\n",
       "2                  50736  7093  6529  972  208  14  7  1  0  0\n",
       "3                   3645  1131   469  131   27   5  2  2  0  2\n",
       "4                   3933   690   494   77   83   9  4  0  0  0\n",
       "5                    535   131    41   20    6   4  2  0  0  0\n",
       "6                    669    73    53   28   18  13  7  0  0  0\n",
       "7                     99    20     5    8    6   3  0  0  0  0\n",
       "8                    183    12    13    2    6   1  3  2  2  1\n",
       "9                     24     5     4    2    1   1  2  0  0  0"
      ]
     },
     "execution_count": 29,
     "metadata": {},
     "output_type": "execute_result"
    }
   ],
   "source": [
    "# We use crosstab to group the counts\n",
    "pd.crosstab(travel['srch_adults_cnt'], travel['srch_children_cnt'])"
   ]
  },
  {
   "cell_type": "code",
   "execution_count": 30,
   "metadata": {
    "colab": {
     "base_uri": "https://localhost:8080/"
    },
    "executionInfo": {
     "elapsed": 3,
     "status": "ok",
     "timestamp": 1683273470111,
     "user": {
      "displayName": "Anahit Doshoyan",
      "userId": "09573357001785357894"
     },
     "user_tz": -240
    },
    "id": "pV9R0-cMrvcq",
    "outputId": "e19cde28-5e17-4158-be06-d92239521ebc"
   },
   "outputs": [
    {
     "data": {
      "text/plain": [
       "(99826, 25)"
      ]
     },
     "execution_count": 30,
     "metadata": {},
     "output_type": "execute_result"
    }
   ],
   "source": [
    "# Then we sum the counts of travellers and drop the rows that area equal to zero\n",
    "travel.drop(travel[travel['srch_adults_cnt'] + travel['srch_children_cnt']==0].index).shape"
   ]
  },
  {
   "cell_type": "markdown",
   "metadata": {
    "id": "FNowNoJn4ECN"
   },
   "source": [
    "## Dates\n",
    "\n",
    "Converting string objects into datatime objects. And creating new **date** column from **date_time.**\n",
    "\n",
    "The chronology: Booking $\\rightarrow$ Check-In $\\rightarrow$ Check-out\n",
    "\n",
    "- Check-out date need to be later than check-in date\n",
    "- Check-in date need to be later than booking date"
   ]
  },
  {
   "cell_type": "code",
   "execution_count": 31,
   "metadata": {
    "colab": {
     "base_uri": "https://localhost:8080/",
     "height": 386
    },
    "executionInfo": {
     "elapsed": 16124,
     "status": "ok",
     "timestamp": 1683273486816,
     "user": {
      "displayName": "Anahit Doshoyan",
      "userId": "09573357001785357894"
     },
     "user_tz": -240
    },
    "id": "NP8QioHLp-fj",
    "outputId": "344e289e-822d-4c1a-801e-f4d1a63f5441",
    "scrolled": true
   },
   "outputs": [
    {
     "data": {
      "text/html": [
       "<div>\n",
       "<style scoped>\n",
       "    .dataframe tbody tr th:only-of-type {\n",
       "        vertical-align: middle;\n",
       "    }\n",
       "\n",
       "    .dataframe tbody tr th {\n",
       "        vertical-align: top;\n",
       "    }\n",
       "\n",
       "    .dataframe thead th {\n",
       "        text-align: right;\n",
       "    }\n",
       "</style>\n",
       "<table border=\"1\" class=\"dataframe\">\n",
       "  <thead>\n",
       "    <tr style=\"text-align: right;\">\n",
       "      <th></th>\n",
       "      <th>date_time</th>\n",
       "      <th>site_name</th>\n",
       "      <th>posa_continent</th>\n",
       "      <th>user_location_country</th>\n",
       "      <th>user_location_region</th>\n",
       "      <th>user_location_city</th>\n",
       "      <th>orig_destination_distance</th>\n",
       "      <th>user_id</th>\n",
       "      <th>is_mobile</th>\n",
       "      <th>is_package</th>\n",
       "      <th>channel</th>\n",
       "      <th>srch_ci</th>\n",
       "      <th>srch_co</th>\n",
       "      <th>srch_adults_cnt</th>\n",
       "      <th>srch_children_cnt</th>\n",
       "      <th>srch_rm_cnt</th>\n",
       "      <th>srch_destination_id</th>\n",
       "      <th>srch_destination_type_id</th>\n",
       "      <th>is_booking</th>\n",
       "      <th>cnt</th>\n",
       "      <th>hotel_continent</th>\n",
       "      <th>hotel_country</th>\n",
       "      <th>hotel_market</th>\n",
       "      <th>hotel_cluster</th>\n",
       "      <th>count</th>\n",
       "      <th>date</th>\n",
       "    </tr>\n",
       "  </thead>\n",
       "  <tbody>\n",
       "    <tr>\n",
       "      <th>0</th>\n",
       "      <td>2014-11-03 16:02:00</td>\n",
       "      <td>24</td>\n",
       "      <td>2</td>\n",
       "      <td>77</td>\n",
       "      <td>871</td>\n",
       "      <td>36643</td>\n",
       "      <td>456.1151</td>\n",
       "      <td>792280</td>\n",
       "      <td>0</td>\n",
       "      <td>1</td>\n",
       "      <td>1</td>\n",
       "      <td>2014-12-15</td>\n",
       "      <td>2014-12-19</td>\n",
       "      <td>2</td>\n",
       "      <td>0</td>\n",
       "      <td>1</td>\n",
       "      <td>8286</td>\n",
       "      <td>1</td>\n",
       "      <td>0</td>\n",
       "      <td>1</td>\n",
       "      <td>0</td>\n",
       "      <td>63</td>\n",
       "      <td>1258</td>\n",
       "      <td>68</td>\n",
       "      <td>2</td>\n",
       "      <td>2014-11-03</td>\n",
       "    </tr>\n",
       "    <tr>\n",
       "      <th>1</th>\n",
       "      <td>2014-07-28 23:50:00</td>\n",
       "      <td>24</td>\n",
       "      <td>2</td>\n",
       "      <td>77</td>\n",
       "      <td>871</td>\n",
       "      <td>36643</td>\n",
       "      <td>454.4611</td>\n",
       "      <td>792280</td>\n",
       "      <td>0</td>\n",
       "      <td>1</td>\n",
       "      <td>9</td>\n",
       "      <td>2014-08-26</td>\n",
       "      <td>2014-08-31</td>\n",
       "      <td>1</td>\n",
       "      <td>0</td>\n",
       "      <td>1</td>\n",
       "      <td>8286</td>\n",
       "      <td>1</td>\n",
       "      <td>0</td>\n",
       "      <td>1</td>\n",
       "      <td>0</td>\n",
       "      <td>63</td>\n",
       "      <td>1258</td>\n",
       "      <td>14</td>\n",
       "      <td>2</td>\n",
       "      <td>2014-07-28</td>\n",
       "    </tr>\n",
       "    <tr>\n",
       "      <th>2</th>\n",
       "      <td>2013-03-13 19:25:00</td>\n",
       "      <td>11</td>\n",
       "      <td>3</td>\n",
       "      <td>205</td>\n",
       "      <td>135</td>\n",
       "      <td>38749</td>\n",
       "      <td>232.4737</td>\n",
       "      <td>961995</td>\n",
       "      <td>0</td>\n",
       "      <td>0</td>\n",
       "      <td>9</td>\n",
       "      <td>2013-03-13</td>\n",
       "      <td>2013-03-14</td>\n",
       "      <td>2</td>\n",
       "      <td>0</td>\n",
       "      <td>1</td>\n",
       "      <td>1842</td>\n",
       "      <td>3</td>\n",
       "      <td>0</td>\n",
       "      <td>1</td>\n",
       "      <td>2</td>\n",
       "      <td>198</td>\n",
       "      <td>786</td>\n",
       "      <td>37</td>\n",
       "      <td>1</td>\n",
       "      <td>2013-03-13</td>\n",
       "    </tr>\n",
       "    <tr>\n",
       "      <th>3</th>\n",
       "      <td>2014-10-13 13:20:00</td>\n",
       "      <td>2</td>\n",
       "      <td>3</td>\n",
       "      <td>66</td>\n",
       "      <td>314</td>\n",
       "      <td>48562</td>\n",
       "      <td>4468.2720</td>\n",
       "      <td>495669</td>\n",
       "      <td>0</td>\n",
       "      <td>1</td>\n",
       "      <td>9</td>\n",
       "      <td>2015-04-03</td>\n",
       "      <td>2015-04-10</td>\n",
       "      <td>2</td>\n",
       "      <td>0</td>\n",
       "      <td>1</td>\n",
       "      <td>8746</td>\n",
       "      <td>1</td>\n",
       "      <td>0</td>\n",
       "      <td>1</td>\n",
       "      <td>6</td>\n",
       "      <td>105</td>\n",
       "      <td>29</td>\n",
       "      <td>22</td>\n",
       "      <td>1</td>\n",
       "      <td>2014-10-13</td>\n",
       "    </tr>\n",
       "    <tr>\n",
       "      <th>4</th>\n",
       "      <td>2013-11-05 10:40:00</td>\n",
       "      <td>11</td>\n",
       "      <td>3</td>\n",
       "      <td>205</td>\n",
       "      <td>411</td>\n",
       "      <td>52752</td>\n",
       "      <td>171.6021</td>\n",
       "      <td>106611</td>\n",
       "      <td>0</td>\n",
       "      <td>0</td>\n",
       "      <td>0</td>\n",
       "      <td>2013-11-07</td>\n",
       "      <td>2013-11-08</td>\n",
       "      <td>2</td>\n",
       "      <td>0</td>\n",
       "      <td>1</td>\n",
       "      <td>6210</td>\n",
       "      <td>3</td>\n",
       "      <td>1</td>\n",
       "      <td>1</td>\n",
       "      <td>2</td>\n",
       "      <td>198</td>\n",
       "      <td>1234</td>\n",
       "      <td>42</td>\n",
       "      <td>2</td>\n",
       "      <td>2013-11-05</td>\n",
       "    </tr>\n",
       "  </tbody>\n",
       "</table>\n",
       "</div>"
      ],
      "text/plain": [
       "            date_time  site_name  posa_continent  user_location_country  \\\n",
       "0 2014-11-03 16:02:00         24               2                     77   \n",
       "1 2014-07-28 23:50:00         24               2                     77   \n",
       "2 2013-03-13 19:25:00         11               3                    205   \n",
       "3 2014-10-13 13:20:00          2               3                     66   \n",
       "4 2013-11-05 10:40:00         11               3                    205   \n",
       "\n",
       "   user_location_region  user_location_city  orig_destination_distance  \\\n",
       "0                   871               36643                   456.1151   \n",
       "1                   871               36643                   454.4611   \n",
       "2                   135               38749                   232.4737   \n",
       "3                   314               48562                  4468.2720   \n",
       "4                   411               52752                   171.6021   \n",
       "\n",
       "   user_id  is_mobile  is_package  channel    srch_ci    srch_co  \\\n",
       "0   792280          0           1        1 2014-12-15 2014-12-19   \n",
       "1   792280          0           1        9 2014-08-26 2014-08-31   \n",
       "2   961995          0           0        9 2013-03-13 2013-03-14   \n",
       "3   495669          0           1        9 2015-04-03 2015-04-10   \n",
       "4   106611          0           0        0 2013-11-07 2013-11-08   \n",
       "\n",
       "   srch_adults_cnt  srch_children_cnt  srch_rm_cnt  srch_destination_id  \\\n",
       "0                2                  0            1                 8286   \n",
       "1                1                  0            1                 8286   \n",
       "2                2                  0            1                 1842   \n",
       "3                2                  0            1                 8746   \n",
       "4                2                  0            1                 6210   \n",
       "\n",
       "   srch_destination_type_id  is_booking  cnt  hotel_continent  hotel_country  \\\n",
       "0                         1           0    1                0             63   \n",
       "1                         1           0    1                0             63   \n",
       "2                         3           0    1                2            198   \n",
       "3                         1           0    1                6            105   \n",
       "4                         3           1    1                2            198   \n",
       "\n",
       "   hotel_market  hotel_cluster  count       date  \n",
       "0          1258             68      2 2014-11-03  \n",
       "1          1258             14      2 2014-07-28  \n",
       "2           786             37      1 2013-03-13  \n",
       "3            29             22      1 2014-10-13  \n",
       "4          1234             42      2 2013-11-05  "
      ]
     },
     "execution_count": 31,
     "metadata": {},
     "output_type": "execute_result"
    }
   ],
   "source": [
    "# Changing the column type to  datatime type using pandas\n",
    "travel['srch_co'] = pd.to_datetime(travel['srch_co'])\n",
    "travel['srch_ci'] = pd.to_datetime(travel['srch_ci'])\n",
    "travel['date_time'] = pd.to_datetime(travel['date_time'])\n",
    "\n",
    "# Change the timestamp of 'date_time' (2014-11-03 16:02:28) to simply \"2014-11-03\"\n",
    "travel['date'] = pd.to_datetime(travel['date_time'].apply(lambda x: x.date()))\n",
    "\n",
    "travel.head()"
   ]
  },
  {
   "cell_type": "code",
   "execution_count": 32,
   "metadata": {
    "colab": {
     "base_uri": "https://localhost:8080/",
     "height": 833
    },
    "executionInfo": {
     "elapsed": 9,
     "status": "ok",
     "timestamp": 1683273486817,
     "user": {
      "displayName": "Anahit Doshoyan",
      "userId": "09573357001785357894"
     },
     "user_tz": -240
    },
    "id": "C167XUteqAgH",
    "outputId": "6cefa5e4-7050-478c-f63d-e5d57898c5b6"
   },
   "outputs": [
    {
     "data": {
      "text/html": [
       "<div>\n",
       "<style scoped>\n",
       "    .dataframe tbody tr th:only-of-type {\n",
       "        vertical-align: middle;\n",
       "    }\n",
       "\n",
       "    .dataframe tbody tr th {\n",
       "        vertical-align: top;\n",
       "    }\n",
       "\n",
       "    .dataframe thead th {\n",
       "        text-align: right;\n",
       "    }\n",
       "</style>\n",
       "<table border=\"1\" class=\"dataframe\">\n",
       "  <thead>\n",
       "    <tr style=\"text-align: right;\">\n",
       "      <th></th>\n",
       "      <th>srch_ci</th>\n",
       "      <th>date</th>\n",
       "    </tr>\n",
       "  </thead>\n",
       "  <tbody>\n",
       "    <tr>\n",
       "      <th>7138</th>\n",
       "      <td>2014-01-05</td>\n",
       "      <td>2014-01-07</td>\n",
       "    </tr>\n",
       "    <tr>\n",
       "      <th>14931</th>\n",
       "      <td>2014-10-13</td>\n",
       "      <td>2014-10-14</td>\n",
       "    </tr>\n",
       "    <tr>\n",
       "      <th>18778</th>\n",
       "      <td>2014-06-11</td>\n",
       "      <td>2014-11-10</td>\n",
       "    </tr>\n",
       "    <tr>\n",
       "      <th>22722</th>\n",
       "      <td>2014-02-11</td>\n",
       "      <td>2014-10-09</td>\n",
       "    </tr>\n",
       "    <tr>\n",
       "      <th>25886</th>\n",
       "      <td>2014-03-10</td>\n",
       "      <td>2014-09-15</td>\n",
       "    </tr>\n",
       "    <tr>\n",
       "      <th>26795</th>\n",
       "      <td>2014-09-12</td>\n",
       "      <td>2014-12-02</td>\n",
       "    </tr>\n",
       "    <tr>\n",
       "      <th>29591</th>\n",
       "      <td>2014-08-02</td>\n",
       "      <td>2014-08-23</td>\n",
       "    </tr>\n",
       "    <tr>\n",
       "      <th>33886</th>\n",
       "      <td>2013-01-16</td>\n",
       "      <td>2013-01-17</td>\n",
       "    </tr>\n",
       "    <tr>\n",
       "      <th>33887</th>\n",
       "      <td>2014-03-03</td>\n",
       "      <td>2014-03-04</td>\n",
       "    </tr>\n",
       "    <tr>\n",
       "      <th>33888</th>\n",
       "      <td>2013-01-21</td>\n",
       "      <td>2013-01-22</td>\n",
       "    </tr>\n",
       "    <tr>\n",
       "      <th>35700</th>\n",
       "      <td>2013-05-17</td>\n",
       "      <td>2013-05-18</td>\n",
       "    </tr>\n",
       "    <tr>\n",
       "      <th>35888</th>\n",
       "      <td>2013-09-20</td>\n",
       "      <td>2013-09-21</td>\n",
       "    </tr>\n",
       "    <tr>\n",
       "      <th>36022</th>\n",
       "      <td>2014-07-08</td>\n",
       "      <td>2014-07-29</td>\n",
       "    </tr>\n",
       "    <tr>\n",
       "      <th>41212</th>\n",
       "      <td>2014-12-01</td>\n",
       "      <td>2014-12-02</td>\n",
       "    </tr>\n",
       "    <tr>\n",
       "      <th>45709</th>\n",
       "      <td>2014-04-11</td>\n",
       "      <td>2014-10-26</td>\n",
       "    </tr>\n",
       "    <tr>\n",
       "      <th>49744</th>\n",
       "      <td>2014-09-26</td>\n",
       "      <td>2014-09-27</td>\n",
       "    </tr>\n",
       "    <tr>\n",
       "      <th>54106</th>\n",
       "      <td>2014-05-31</td>\n",
       "      <td>2014-06-01</td>\n",
       "    </tr>\n",
       "    <tr>\n",
       "      <th>57738</th>\n",
       "      <td>2014-05-09</td>\n",
       "      <td>2014-08-22</td>\n",
       "    </tr>\n",
       "    <tr>\n",
       "      <th>59543</th>\n",
       "      <td>2014-07-25</td>\n",
       "      <td>2014-07-26</td>\n",
       "    </tr>\n",
       "    <tr>\n",
       "      <th>59624</th>\n",
       "      <td>2014-11-02</td>\n",
       "      <td>2014-11-30</td>\n",
       "    </tr>\n",
       "    <tr>\n",
       "      <th>85350</th>\n",
       "      <td>2014-12-16</td>\n",
       "      <td>2014-12-17</td>\n",
       "    </tr>\n",
       "    <tr>\n",
       "      <th>86119</th>\n",
       "      <td>2014-06-11</td>\n",
       "      <td>2014-06-12</td>\n",
       "    </tr>\n",
       "    <tr>\n",
       "      <th>88327</th>\n",
       "      <td>2014-04-01</td>\n",
       "      <td>2014-04-02</td>\n",
       "    </tr>\n",
       "    <tr>\n",
       "      <th>91839</th>\n",
       "      <td>2014-03-10</td>\n",
       "      <td>2014-09-11</td>\n",
       "    </tr>\n",
       "    <tr>\n",
       "      <th>92433</th>\n",
       "      <td>2014-12-15</td>\n",
       "      <td>2014-12-20</td>\n",
       "    </tr>\n",
       "  </tbody>\n",
       "</table>\n",
       "</div>"
      ],
      "text/plain": [
       "         srch_ci       date\n",
       "7138  2014-01-05 2014-01-07\n",
       "14931 2014-10-13 2014-10-14\n",
       "18778 2014-06-11 2014-11-10\n",
       "22722 2014-02-11 2014-10-09\n",
       "25886 2014-03-10 2014-09-15\n",
       "26795 2014-09-12 2014-12-02\n",
       "29591 2014-08-02 2014-08-23\n",
       "33886 2013-01-16 2013-01-17\n",
       "33887 2014-03-03 2014-03-04\n",
       "33888 2013-01-21 2013-01-22\n",
       "35700 2013-05-17 2013-05-18\n",
       "35888 2013-09-20 2013-09-21\n",
       "36022 2014-07-08 2014-07-29\n",
       "41212 2014-12-01 2014-12-02\n",
       "45709 2014-04-11 2014-10-26\n",
       "49744 2014-09-26 2014-09-27\n",
       "54106 2014-05-31 2014-06-01\n",
       "57738 2014-05-09 2014-08-22\n",
       "59543 2014-07-25 2014-07-26\n",
       "59624 2014-11-02 2014-11-30\n",
       "85350 2014-12-16 2014-12-17\n",
       "86119 2014-06-11 2014-06-12\n",
       "88327 2014-04-01 2014-04-02\n",
       "91839 2014-03-10 2014-09-11\n",
       "92433 2014-12-15 2014-12-20"
      ]
     },
     "execution_count": 32,
     "metadata": {},
     "output_type": "execute_result"
    }
   ],
   "source": [
    "travel[travel['srch_co'] < travel['srch_ci']][['srch_co', 'srch_ci']]\n",
    "travel[travel['srch_ci'] < travel['date']][['srch_ci', 'date']]"
   ]
  },
  {
   "cell_type": "markdown",
   "metadata": {
    "id": "WXMjeFQiwTBD"
   },
   "source": [
    "#### Feature Engineering\n",
    "\n",
    "Let's create two important (at least from business perspective) features from existing date columns, by applying `duration()` functio: \n",
    "- `duration`\n",
    "- `days_in_advance`"
   ]
  },
  {
   "cell_type": "code",
   "execution_count": 33,
   "metadata": {
    "executionInfo": {
     "elapsed": 6,
     "status": "ok",
     "timestamp": 1683273486817,
     "user": {
      "displayName": "Anahit Doshoyan",
      "userId": "09573357001785357894"
     },
     "user_tz": -240
    },
    "id": "vzkj-YLk4ECO"
   },
   "outputs": [],
   "source": [
    "def duration(row,start, end):\n",
    "    delta=(row[end]-row[start])/np.timedelta64(1,'D')\n",
    "    if delta<=0:\n",
    "        return np.nan\n",
    "    else:\n",
    "        return delta"
   ]
  },
  {
   "cell_type": "code",
   "execution_count": 34,
   "metadata": {
    "executionInfo": {
     "elapsed": 7045,
     "status": "ok",
     "timestamp": 1683273493856,
     "user": {
      "displayName": "Anahit Doshoyan",
      "userId": "09573357001785357894"
     },
     "user_tz": -240
    },
    "id": "pMM5Nb2Zft9F",
    "scrolled": true
   },
   "outputs": [],
   "source": [
    "# Duration is finds the length of stay by substracting the checkout day from the checkin day\n",
    "travel['duration'] = travel.apply(duration, args=('srch_ci','srch_co'),axis=1)\n",
    "\n",
    "# Shows how long in advance the booking was made. Done by substracting the checkin date from the booking date\n",
    "travel['days_in_advance'] = travel.apply(duration,args=('date','srch_ci'), axis=1)"
   ]
  },
  {
   "cell_type": "code",
   "execution_count": 35,
   "metadata": {
    "colab": {
     "base_uri": "https://localhost:8080/",
     "height": 382
    },
    "executionInfo": {
     "elapsed": 316,
     "status": "ok",
     "timestamp": 1683273092624,
     "user": {
      "displayName": "Anahit Zakaryan",
      "userId": "16260139456412221930"
     },
     "user_tz": -240
    },
    "id": "Y_zjcj9vhlMZ",
    "outputId": "91c71eea-d14f-4a49-9a42-a21dc9790cae"
   },
   "outputs": [
    {
     "data": {
      "text/html": [
       "<div>\n",
       "<style scoped>\n",
       "    .dataframe tbody tr th:only-of-type {\n",
       "        vertical-align: middle;\n",
       "    }\n",
       "\n",
       "    .dataframe tbody tr th {\n",
       "        vertical-align: top;\n",
       "    }\n",
       "\n",
       "    .dataframe thead th {\n",
       "        text-align: right;\n",
       "    }\n",
       "</style>\n",
       "<table border=\"1\" class=\"dataframe\">\n",
       "  <thead>\n",
       "    <tr style=\"text-align: right;\">\n",
       "      <th></th>\n",
       "      <th>date_time</th>\n",
       "      <th>site_name</th>\n",
       "      <th>posa_continent</th>\n",
       "      <th>user_location_country</th>\n",
       "      <th>user_location_region</th>\n",
       "      <th>user_location_city</th>\n",
       "      <th>orig_destination_distance</th>\n",
       "      <th>user_id</th>\n",
       "      <th>is_mobile</th>\n",
       "      <th>is_package</th>\n",
       "      <th>channel</th>\n",
       "      <th>srch_ci</th>\n",
       "      <th>srch_co</th>\n",
       "      <th>srch_adults_cnt</th>\n",
       "      <th>srch_children_cnt</th>\n",
       "      <th>srch_rm_cnt</th>\n",
       "      <th>srch_destination_id</th>\n",
       "      <th>srch_destination_type_id</th>\n",
       "      <th>is_booking</th>\n",
       "      <th>cnt</th>\n",
       "      <th>hotel_continent</th>\n",
       "      <th>hotel_country</th>\n",
       "      <th>hotel_market</th>\n",
       "      <th>hotel_cluster</th>\n",
       "      <th>count</th>\n",
       "      <th>date</th>\n",
       "      <th>duration</th>\n",
       "      <th>days_in_advance</th>\n",
       "    </tr>\n",
       "  </thead>\n",
       "  <tbody>\n",
       "    <tr>\n",
       "      <th>0</th>\n",
       "      <td>2014-11-03 16:02:00</td>\n",
       "      <td>24</td>\n",
       "      <td>2</td>\n",
       "      <td>77</td>\n",
       "      <td>871</td>\n",
       "      <td>36643</td>\n",
       "      <td>456.1151</td>\n",
       "      <td>792280</td>\n",
       "      <td>0</td>\n",
       "      <td>1</td>\n",
       "      <td>1</td>\n",
       "      <td>2014-12-15</td>\n",
       "      <td>2014-12-19</td>\n",
       "      <td>2</td>\n",
       "      <td>0</td>\n",
       "      <td>1</td>\n",
       "      <td>8286</td>\n",
       "      <td>1</td>\n",
       "      <td>0</td>\n",
       "      <td>1</td>\n",
       "      <td>0</td>\n",
       "      <td>63</td>\n",
       "      <td>1258</td>\n",
       "      <td>68</td>\n",
       "      <td>2</td>\n",
       "      <td>2014-11-03</td>\n",
       "      <td>4.0</td>\n",
       "      <td>42.0</td>\n",
       "    </tr>\n",
       "    <tr>\n",
       "      <th>1</th>\n",
       "      <td>2014-07-28 23:50:00</td>\n",
       "      <td>24</td>\n",
       "      <td>2</td>\n",
       "      <td>77</td>\n",
       "      <td>871</td>\n",
       "      <td>36643</td>\n",
       "      <td>454.4611</td>\n",
       "      <td>792280</td>\n",
       "      <td>0</td>\n",
       "      <td>1</td>\n",
       "      <td>9</td>\n",
       "      <td>2014-08-26</td>\n",
       "      <td>2014-08-31</td>\n",
       "      <td>1</td>\n",
       "      <td>0</td>\n",
       "      <td>1</td>\n",
       "      <td>8286</td>\n",
       "      <td>1</td>\n",
       "      <td>0</td>\n",
       "      <td>1</td>\n",
       "      <td>0</td>\n",
       "      <td>63</td>\n",
       "      <td>1258</td>\n",
       "      <td>14</td>\n",
       "      <td>2</td>\n",
       "      <td>2014-07-28</td>\n",
       "      <td>5.0</td>\n",
       "      <td>29.0</td>\n",
       "    </tr>\n",
       "    <tr>\n",
       "      <th>2</th>\n",
       "      <td>2013-03-13 19:25:00</td>\n",
       "      <td>11</td>\n",
       "      <td>3</td>\n",
       "      <td>205</td>\n",
       "      <td>135</td>\n",
       "      <td>38749</td>\n",
       "      <td>232.4737</td>\n",
       "      <td>961995</td>\n",
       "      <td>0</td>\n",
       "      <td>0</td>\n",
       "      <td>9</td>\n",
       "      <td>2013-03-13</td>\n",
       "      <td>2013-03-14</td>\n",
       "      <td>2</td>\n",
       "      <td>0</td>\n",
       "      <td>1</td>\n",
       "      <td>1842</td>\n",
       "      <td>3</td>\n",
       "      <td>0</td>\n",
       "      <td>1</td>\n",
       "      <td>2</td>\n",
       "      <td>198</td>\n",
       "      <td>786</td>\n",
       "      <td>37</td>\n",
       "      <td>1</td>\n",
       "      <td>2013-03-13</td>\n",
       "      <td>1.0</td>\n",
       "      <td>NaN</td>\n",
       "    </tr>\n",
       "    <tr>\n",
       "      <th>3</th>\n",
       "      <td>2014-10-13 13:20:00</td>\n",
       "      <td>2</td>\n",
       "      <td>3</td>\n",
       "      <td>66</td>\n",
       "      <td>314</td>\n",
       "      <td>48562</td>\n",
       "      <td>4468.2720</td>\n",
       "      <td>495669</td>\n",
       "      <td>0</td>\n",
       "      <td>1</td>\n",
       "      <td>9</td>\n",
       "      <td>2015-04-03</td>\n",
       "      <td>2015-04-10</td>\n",
       "      <td>2</td>\n",
       "      <td>0</td>\n",
       "      <td>1</td>\n",
       "      <td>8746</td>\n",
       "      <td>1</td>\n",
       "      <td>0</td>\n",
       "      <td>1</td>\n",
       "      <td>6</td>\n",
       "      <td>105</td>\n",
       "      <td>29</td>\n",
       "      <td>22</td>\n",
       "      <td>1</td>\n",
       "      <td>2014-10-13</td>\n",
       "      <td>7.0</td>\n",
       "      <td>172.0</td>\n",
       "    </tr>\n",
       "    <tr>\n",
       "      <th>4</th>\n",
       "      <td>2013-11-05 10:40:00</td>\n",
       "      <td>11</td>\n",
       "      <td>3</td>\n",
       "      <td>205</td>\n",
       "      <td>411</td>\n",
       "      <td>52752</td>\n",
       "      <td>171.6021</td>\n",
       "      <td>106611</td>\n",
       "      <td>0</td>\n",
       "      <td>0</td>\n",
       "      <td>0</td>\n",
       "      <td>2013-11-07</td>\n",
       "      <td>2013-11-08</td>\n",
       "      <td>2</td>\n",
       "      <td>0</td>\n",
       "      <td>1</td>\n",
       "      <td>6210</td>\n",
       "      <td>3</td>\n",
       "      <td>1</td>\n",
       "      <td>1</td>\n",
       "      <td>2</td>\n",
       "      <td>198</td>\n",
       "      <td>1234</td>\n",
       "      <td>42</td>\n",
       "      <td>2</td>\n",
       "      <td>2013-11-05</td>\n",
       "      <td>1.0</td>\n",
       "      <td>2.0</td>\n",
       "    </tr>\n",
       "  </tbody>\n",
       "</table>\n",
       "</div>"
      ],
      "text/plain": [
       "            date_time  site_name  posa_continent  user_location_country  \\\n",
       "0 2014-11-03 16:02:00         24               2                     77   \n",
       "1 2014-07-28 23:50:00         24               2                     77   \n",
       "2 2013-03-13 19:25:00         11               3                    205   \n",
       "3 2014-10-13 13:20:00          2               3                     66   \n",
       "4 2013-11-05 10:40:00         11               3                    205   \n",
       "\n",
       "   user_location_region  user_location_city  orig_destination_distance  \\\n",
       "0                   871               36643                   456.1151   \n",
       "1                   871               36643                   454.4611   \n",
       "2                   135               38749                   232.4737   \n",
       "3                   314               48562                  4468.2720   \n",
       "4                   411               52752                   171.6021   \n",
       "\n",
       "   user_id  is_mobile  is_package  channel    srch_ci    srch_co  \\\n",
       "0   792280          0           1        1 2014-12-15 2014-12-19   \n",
       "1   792280          0           1        9 2014-08-26 2014-08-31   \n",
       "2   961995          0           0        9 2013-03-13 2013-03-14   \n",
       "3   495669          0           1        9 2015-04-03 2015-04-10   \n",
       "4   106611          0           0        0 2013-11-07 2013-11-08   \n",
       "\n",
       "   srch_adults_cnt  srch_children_cnt  srch_rm_cnt  srch_destination_id  \\\n",
       "0                2                  0            1                 8286   \n",
       "1                1                  0            1                 8286   \n",
       "2                2                  0            1                 1842   \n",
       "3                2                  0            1                 8746   \n",
       "4                2                  0            1                 6210   \n",
       "\n",
       "   srch_destination_type_id  is_booking  cnt  hotel_continent  hotel_country  \\\n",
       "0                         1           0    1                0             63   \n",
       "1                         1           0    1                0             63   \n",
       "2                         3           0    1                2            198   \n",
       "3                         1           0    1                6            105   \n",
       "4                         3           1    1                2            198   \n",
       "\n",
       "   hotel_market  hotel_cluster  count       date  duration  days_in_advance  \n",
       "0          1258             68      2 2014-11-03       4.0             42.0  \n",
       "1          1258             14      2 2014-07-28       5.0             29.0  \n",
       "2           786             37      1 2013-03-13       1.0              NaN  \n",
       "3            29             22      1 2014-10-13       7.0            172.0  \n",
       "4          1234             42      2 2013-11-05       1.0              2.0  "
      ]
     },
     "execution_count": 35,
     "metadata": {},
     "output_type": "execute_result"
    }
   ],
   "source": [
    "travel.head()"
   ]
  },
  {
   "cell_type": "markdown",
   "metadata": {
    "id": "a_kVfqrBwfmM"
   },
   "source": [
    "### Statistical Analysis of Booking Channels\n",
    "\n",
    "Let's look at how each channel performs by seeing the booking rate for each channel type.\n",
    "\n",
    "`booking rate` per `channel`"
   ]
  },
  {
   "cell_type": "code",
   "execution_count": 36,
   "metadata": {
    "colab": {
     "base_uri": "https://localhost:8080/",
     "height": 394
    },
    "executionInfo": {
     "elapsed": 11,
     "status": "ok",
     "timestamp": 1683273493857,
     "user": {
      "displayName": "Anahit Doshoyan",
      "userId": "09573357001785357894"
     },
     "user_tz": -240
    },
    "id": "Ng9i9ught-Fb",
    "outputId": "4db9ffd7-a4cb-4d18-8f53-2abfa44d8bd0"
   },
   "outputs": [
    {
     "data": {
      "text/html": [
       "<div>\n",
       "<style scoped>\n",
       "    .dataframe tbody tr th:only-of-type {\n",
       "        vertical-align: middle;\n",
       "    }\n",
       "\n",
       "    .dataframe tbody tr th {\n",
       "        vertical-align: top;\n",
       "    }\n",
       "\n",
       "    .dataframe thead th {\n",
       "        text-align: right;\n",
       "    }\n",
       "</style>\n",
       "<table border=\"1\" class=\"dataframe\">\n",
       "  <thead>\n",
       "    <tr style=\"text-align: right;\">\n",
       "      <th></th>\n",
       "      <th>channel</th>\n",
       "      <th>booking_rate</th>\n",
       "      <th>num_of_bookings</th>\n",
       "    </tr>\n",
       "  </thead>\n",
       "  <tbody>\n",
       "    <tr>\n",
       "      <th>0</th>\n",
       "      <td>0</td>\n",
       "      <td>0.071948</td>\n",
       "      <td>12523</td>\n",
       "    </tr>\n",
       "    <tr>\n",
       "      <th>1</th>\n",
       "      <td>1</td>\n",
       "      <td>0.069690</td>\n",
       "      <td>10274</td>\n",
       "    </tr>\n",
       "    <tr>\n",
       "      <th>2</th>\n",
       "      <td>2</td>\n",
       "      <td>0.060490</td>\n",
       "      <td>7836</td>\n",
       "    </tr>\n",
       "    <tr>\n",
       "      <th>3</th>\n",
       "      <td>3</td>\n",
       "      <td>0.060400</td>\n",
       "      <td>4404</td>\n",
       "    </tr>\n",
       "    <tr>\n",
       "      <th>4</th>\n",
       "      <td>4</td>\n",
       "      <td>0.120784</td>\n",
       "      <td>2194</td>\n",
       "    </tr>\n",
       "    <tr>\n",
       "      <th>5</th>\n",
       "      <td>5</td>\n",
       "      <td>0.094349</td>\n",
       "      <td>6158</td>\n",
       "    </tr>\n",
       "    <tr>\n",
       "      <th>6</th>\n",
       "      <td>6</td>\n",
       "      <td>0.067901</td>\n",
       "      <td>162</td>\n",
       "    </tr>\n",
       "    <tr>\n",
       "      <th>7</th>\n",
       "      <td>7</td>\n",
       "      <td>0.043157</td>\n",
       "      <td>811</td>\n",
       "    </tr>\n",
       "    <tr>\n",
       "      <th>8</th>\n",
       "      <td>8</td>\n",
       "      <td>0.055351</td>\n",
       "      <td>271</td>\n",
       "    </tr>\n",
       "    <tr>\n",
       "      <th>9</th>\n",
       "      <td>9</td>\n",
       "      <td>0.085381</td>\n",
       "      <td>55352</td>\n",
       "    </tr>\n",
       "    <tr>\n",
       "      <th>10</th>\n",
       "      <td>10</td>\n",
       "      <td>0.200000</td>\n",
       "      <td>15</td>\n",
       "    </tr>\n",
       "  </tbody>\n",
       "</table>\n",
       "</div>"
      ],
      "text/plain": [
       "    channel  booking_rate  num_of_bookings\n",
       "0         0      0.071948            12523\n",
       "1         1      0.069690            10274\n",
       "2         2      0.060490             7836\n",
       "3         3      0.060400             4404\n",
       "4         4      0.120784             2194\n",
       "5         5      0.094349             6158\n",
       "6         6      0.067901              162\n",
       "7         7      0.043157              811\n",
       "8         8      0.055351              271\n",
       "9         9      0.085381            55352\n",
       "10       10      0.200000               15"
      ]
     },
     "execution_count": 36,
     "metadata": {},
     "output_type": "execute_result"
    }
   ],
   "source": [
    "travel.groupby('channel')['is_booking'].agg(booking_rate= 'mean', num_of_bookings= 'count').reset_index().sort_values(by='channel')"
   ]
  },
  {
   "cell_type": "markdown",
   "metadata": {
    "id": "PrFZZdq0670K"
   },
   "source": [
    "\n",
    "# Clustering\n",
    "\n",
    "Let's choose some features using our business domain knowledge and explore these. After selecting features, let's create two new dataframes with our new data called:\n",
    "\n",
    "- `df_clustering`\n",
    "- `df_clustering_groups` grouped by `user_location_city`\n",
    "\n",
    "**Note:** you're free to add and remove\n"
   ]
  },
  {
   "cell_type": "code",
   "execution_count": 37,
   "metadata": {
    "executionInfo": {
     "elapsed": 9,
     "status": "ok",
     "timestamp": 1683273493857,
     "user": {
      "displayName": "Anahit Doshoyan",
      "userId": "09573357001785357894"
     },
     "user_tz": -240
    },
    "id": "u6tntn8w681s"
   },
   "outputs": [],
   "source": [
    "# Our selected features\n",
    "features_to_explore = ['duration', 'days_in_advance', 'orig_destination_distance', 'is_mobile',\n",
    "            'is_package', 'srch_adults_cnt', 'srch_children_cnt', 'srch_rm_cnt']\n",
    "\n",
    "\n",
    "df_clustering = travel[features_to_explore + ['user_location_city']]\n",
    "df_clustering_groups = df_clustering.groupby('user_location_city').mean().reset_index().dropna(axis=0)"
   ]
  },
  {
   "cell_type": "code",
   "execution_count": 38,
   "metadata": {
    "colab": {
     "base_uri": "https://localhost:8080/",
     "height": 270
    },
    "executionInfo": {
     "elapsed": 9,
     "status": "ok",
     "timestamp": 1683273493858,
     "user": {
      "displayName": "Anahit Doshoyan",
      "userId": "09573357001785357894"
     },
     "user_tz": -240
    },
    "id": "VJIRVbjP_1Hw",
    "outputId": "df8427e2-17f3-4ded-b5e5-cdb2f9938b4f"
   },
   "outputs": [
    {
     "data": {
      "text/html": [
       "<div>\n",
       "<style scoped>\n",
       "    .dataframe tbody tr th:only-of-type {\n",
       "        vertical-align: middle;\n",
       "    }\n",
       "\n",
       "    .dataframe tbody tr th {\n",
       "        vertical-align: top;\n",
       "    }\n",
       "\n",
       "    .dataframe thead th {\n",
       "        text-align: right;\n",
       "    }\n",
       "</style>\n",
       "<table border=\"1\" class=\"dataframe\">\n",
       "  <thead>\n",
       "    <tr style=\"text-align: right;\">\n",
       "      <th></th>\n",
       "      <th>duration</th>\n",
       "      <th>days_in_advance</th>\n",
       "      <th>orig_destination_distance</th>\n",
       "      <th>is_mobile</th>\n",
       "      <th>is_package</th>\n",
       "      <th>srch_adults_cnt</th>\n",
       "      <th>srch_children_cnt</th>\n",
       "      <th>srch_rm_cnt</th>\n",
       "      <th>user_location_city</th>\n",
       "    </tr>\n",
       "  </thead>\n",
       "  <tbody>\n",
       "    <tr>\n",
       "      <th>0</th>\n",
       "      <td>4.0</td>\n",
       "      <td>42.0</td>\n",
       "      <td>456.1151</td>\n",
       "      <td>0</td>\n",
       "      <td>1</td>\n",
       "      <td>2</td>\n",
       "      <td>0</td>\n",
       "      <td>1</td>\n",
       "      <td>36643</td>\n",
       "    </tr>\n",
       "    <tr>\n",
       "      <th>1</th>\n",
       "      <td>5.0</td>\n",
       "      <td>29.0</td>\n",
       "      <td>454.4611</td>\n",
       "      <td>0</td>\n",
       "      <td>1</td>\n",
       "      <td>1</td>\n",
       "      <td>0</td>\n",
       "      <td>1</td>\n",
       "      <td>36643</td>\n",
       "    </tr>\n",
       "    <tr>\n",
       "      <th>2</th>\n",
       "      <td>1.0</td>\n",
       "      <td>NaN</td>\n",
       "      <td>232.4737</td>\n",
       "      <td>0</td>\n",
       "      <td>0</td>\n",
       "      <td>2</td>\n",
       "      <td>0</td>\n",
       "      <td>1</td>\n",
       "      <td>38749</td>\n",
       "    </tr>\n",
       "    <tr>\n",
       "      <th>3</th>\n",
       "      <td>7.0</td>\n",
       "      <td>172.0</td>\n",
       "      <td>4468.2720</td>\n",
       "      <td>0</td>\n",
       "      <td>1</td>\n",
       "      <td>2</td>\n",
       "      <td>0</td>\n",
       "      <td>1</td>\n",
       "      <td>48562</td>\n",
       "    </tr>\n",
       "    <tr>\n",
       "      <th>4</th>\n",
       "      <td>1.0</td>\n",
       "      <td>2.0</td>\n",
       "      <td>171.6021</td>\n",
       "      <td>0</td>\n",
       "      <td>0</td>\n",
       "      <td>2</td>\n",
       "      <td>0</td>\n",
       "      <td>1</td>\n",
       "      <td>52752</td>\n",
       "    </tr>\n",
       "  </tbody>\n",
       "</table>\n",
       "</div>"
      ],
      "text/plain": [
       "   duration  days_in_advance  orig_destination_distance  is_mobile  \\\n",
       "0       4.0             42.0                   456.1151          0   \n",
       "1       5.0             29.0                   454.4611          0   \n",
       "2       1.0              NaN                   232.4737          0   \n",
       "3       7.0            172.0                  4468.2720          0   \n",
       "4       1.0              2.0                   171.6021          0   \n",
       "\n",
       "   is_package  srch_adults_cnt  srch_children_cnt  srch_rm_cnt  \\\n",
       "0           1                2                  0            1   \n",
       "1           1                1                  0            1   \n",
       "2           0                2                  0            1   \n",
       "3           1                2                  0            1   \n",
       "4           0                2                  0            1   \n",
       "\n",
       "   user_location_city  \n",
       "0               36643  \n",
       "1               36643  \n",
       "2               38749  \n",
       "3               48562  \n",
       "4               52752  "
      ]
     },
     "execution_count": 38,
     "metadata": {},
     "output_type": "execute_result"
    }
   ],
   "source": [
    "df_clustering.head()"
   ]
  },
  {
   "cell_type": "code",
   "execution_count": 39,
   "metadata": {
    "colab": {
     "base_uri": "https://localhost:8080/"
    },
    "executionInfo": {
     "elapsed": 6,
     "status": "ok",
     "timestamp": 1683273495290,
     "user": {
      "displayName": "Anahit Doshoyan",
      "userId": "09573357001785357894"
     },
     "user_tz": -240
    },
    "id": "e7Q-gKmeY6nc",
    "outputId": "42498321-9d6e-4d5f-f53c-c7f78b358ed4"
   },
   "outputs": [
    {
     "data": {
      "text/plain": [
       "(100000, 9)"
      ]
     },
     "execution_count": 39,
     "metadata": {},
     "output_type": "execute_result"
    }
   ],
   "source": [
    "df_clustering.shape"
   ]
  },
  {
   "cell_type": "code",
   "execution_count": 40,
   "metadata": {
    "colab": {
     "base_uri": "https://localhost:8080/",
     "height": 270
    },
    "executionInfo": {
     "elapsed": 7,
     "status": "ok",
     "timestamp": 1683273497939,
     "user": {
      "displayName": "Anahit Doshoyan",
      "userId": "09573357001785357894"
     },
     "user_tz": -240
    },
    "id": "MAO63_3O_198",
    "outputId": "5f874577-7f21-486f-ad5e-788f84e552e7"
   },
   "outputs": [
    {
     "data": {
      "text/html": [
       "<div>\n",
       "<style scoped>\n",
       "    .dataframe tbody tr th:only-of-type {\n",
       "        vertical-align: middle;\n",
       "    }\n",
       "\n",
       "    .dataframe tbody tr th {\n",
       "        vertical-align: top;\n",
       "    }\n",
       "\n",
       "    .dataframe thead th {\n",
       "        text-align: right;\n",
       "    }\n",
       "</style>\n",
       "<table border=\"1\" class=\"dataframe\">\n",
       "  <thead>\n",
       "    <tr style=\"text-align: right;\">\n",
       "      <th></th>\n",
       "      <th>user_location_city</th>\n",
       "      <th>duration</th>\n",
       "      <th>days_in_advance</th>\n",
       "      <th>orig_destination_distance</th>\n",
       "      <th>is_mobile</th>\n",
       "      <th>is_package</th>\n",
       "      <th>srch_adults_cnt</th>\n",
       "      <th>srch_children_cnt</th>\n",
       "      <th>srch_rm_cnt</th>\n",
       "    </tr>\n",
       "  </thead>\n",
       "  <tbody>\n",
       "    <tr>\n",
       "      <th>0</th>\n",
       "      <td>0</td>\n",
       "      <td>2.0000</td>\n",
       "      <td>78.500000</td>\n",
       "      <td>2315.836250</td>\n",
       "      <td>0.000000</td>\n",
       "      <td>0.250000</td>\n",
       "      <td>1.750000</td>\n",
       "      <td>0.000000</td>\n",
       "      <td>1.0</td>\n",
       "    </tr>\n",
       "    <tr>\n",
       "      <th>2</th>\n",
       "      <td>3</td>\n",
       "      <td>4.5625</td>\n",
       "      <td>87.705882</td>\n",
       "      <td>3451.384159</td>\n",
       "      <td>0.058824</td>\n",
       "      <td>0.294118</td>\n",
       "      <td>1.941176</td>\n",
       "      <td>0.470588</td>\n",
       "      <td>1.0</td>\n",
       "    </tr>\n",
       "    <tr>\n",
       "      <th>3</th>\n",
       "      <td>7</td>\n",
       "      <td>14.0000</td>\n",
       "      <td>58.000000</td>\n",
       "      <td>5994.864000</td>\n",
       "      <td>0.000000</td>\n",
       "      <td>1.000000</td>\n",
       "      <td>2.000000</td>\n",
       "      <td>0.000000</td>\n",
       "      <td>1.0</td>\n",
       "    </tr>\n",
       "    <tr>\n",
       "      <th>5</th>\n",
       "      <td>14</td>\n",
       "      <td>7.0000</td>\n",
       "      <td>35.750000</td>\n",
       "      <td>5342.819100</td>\n",
       "      <td>0.000000</td>\n",
       "      <td>0.000000</td>\n",
       "      <td>2.000000</td>\n",
       "      <td>0.750000</td>\n",
       "      <td>1.0</td>\n",
       "    </tr>\n",
       "    <tr>\n",
       "      <th>8</th>\n",
       "      <td>21</td>\n",
       "      <td>5.0000</td>\n",
       "      <td>31.500000</td>\n",
       "      <td>2165.768900</td>\n",
       "      <td>0.000000</td>\n",
       "      <td>0.500000</td>\n",
       "      <td>1.500000</td>\n",
       "      <td>1.000000</td>\n",
       "      <td>1.0</td>\n",
       "    </tr>\n",
       "  </tbody>\n",
       "</table>\n",
       "</div>"
      ],
      "text/plain": [
       "   user_location_city  duration  days_in_advance  orig_destination_distance  \\\n",
       "0                   0    2.0000        78.500000                2315.836250   \n",
       "2                   3    4.5625        87.705882                3451.384159   \n",
       "3                   7   14.0000        58.000000                5994.864000   \n",
       "5                  14    7.0000        35.750000                5342.819100   \n",
       "8                  21    5.0000        31.500000                2165.768900   \n",
       "\n",
       "   is_mobile  is_package  srch_adults_cnt  srch_children_cnt  srch_rm_cnt  \n",
       "0   0.000000    0.250000         1.750000           0.000000          1.0  \n",
       "2   0.058824    0.294118         1.941176           0.470588          1.0  \n",
       "3   0.000000    1.000000         2.000000           0.000000          1.0  \n",
       "5   0.000000    0.000000         2.000000           0.750000          1.0  \n",
       "8   0.000000    0.500000         1.500000           1.000000          1.0  "
      ]
     },
     "execution_count": 40,
     "metadata": {},
     "output_type": "execute_result"
    }
   ],
   "source": [
    "df_clustering_groups.head()"
   ]
  },
  {
   "cell_type": "code",
   "execution_count": 41,
   "metadata": {
    "colab": {
     "base_uri": "https://localhost:8080/"
    },
    "executionInfo": {
     "elapsed": 3,
     "status": "ok",
     "timestamp": 1683273501601,
     "user": {
      "displayName": "Anahit Doshoyan",
      "userId": "09573357001785357894"
     },
     "user_tz": -240
    },
    "id": "TgptX6mhXtsJ",
    "outputId": "dda9523d-60c1-47d8-895d-4bacd1b17a89"
   },
   "outputs": [
    {
     "data": {
      "text/plain": [
       "(4483, 9)"
      ]
     },
     "execution_count": 41,
     "metadata": {},
     "output_type": "execute_result"
    }
   ],
   "source": [
    "df_clustering_groups.shape"
   ]
  },
  {
   "cell_type": "markdown",
   "metadata": {
    "id": "nJ4wg9Sa4XFO"
   },
   "source": [
    "# Step 2: Standardizing our data\n",
    "\n",
    "Let's keep copy `df_clustering_groups` dataset, in order to keep the original one for post-analysis."
   ]
  },
  {
   "cell_type": "code",
   "execution_count": 42,
   "metadata": {
    "colab": {
     "base_uri": "https://localhost:8080/",
     "height": 270
    },
    "executionInfo": {
     "elapsed": 6,
     "status": "ok",
     "timestamp": 1683273504298,
     "user": {
      "displayName": "Anahit Doshoyan",
      "userId": "09573357001785357894"
     },
     "user_tz": -240
    },
    "id": "O6gwWpoi_rY6",
    "outputId": "14d067a9-8ca2-429e-b60a-23ae966f450a"
   },
   "outputs": [
    {
     "data": {
      "text/html": [
       "<div>\n",
       "<style scoped>\n",
       "    .dataframe tbody tr th:only-of-type {\n",
       "        vertical-align: middle;\n",
       "    }\n",
       "\n",
       "    .dataframe tbody tr th {\n",
       "        vertical-align: top;\n",
       "    }\n",
       "\n",
       "    .dataframe thead th {\n",
       "        text-align: right;\n",
       "    }\n",
       "</style>\n",
       "<table border=\"1\" class=\"dataframe\">\n",
       "  <thead>\n",
       "    <tr style=\"text-align: right;\">\n",
       "      <th></th>\n",
       "      <th>user_location_city</th>\n",
       "      <th>duration</th>\n",
       "      <th>days_in_advance</th>\n",
       "      <th>orig_destination_distance</th>\n",
       "      <th>is_mobile</th>\n",
       "      <th>is_package</th>\n",
       "      <th>srch_adults_cnt</th>\n",
       "      <th>srch_children_cnt</th>\n",
       "      <th>srch_rm_cnt</th>\n",
       "    </tr>\n",
       "  </thead>\n",
       "  <tbody>\n",
       "    <tr>\n",
       "      <th>0</th>\n",
       "      <td>0</td>\n",
       "      <td>-0.688726</td>\n",
       "      <td>0.444634</td>\n",
       "      <td>0.313666</td>\n",
       "      <td>-0.621296</td>\n",
       "      <td>-0.028903</td>\n",
       "      <td>-0.502143</td>\n",
       "      <td>-0.704130</td>\n",
       "      <td>-0.331343</td>\n",
       "    </tr>\n",
       "    <tr>\n",
       "      <th>2</th>\n",
       "      <td>3</td>\n",
       "      <td>0.563500</td>\n",
       "      <td>0.648714</td>\n",
       "      <td>1.019360</td>\n",
       "      <td>-0.347906</td>\n",
       "      <td>0.119627</td>\n",
       "      <td>-0.199541</td>\n",
       "      <td>0.202478</td>\n",
       "      <td>-0.331343</td>\n",
       "    </tr>\n",
       "    <tr>\n",
       "      <th>3</th>\n",
       "      <td>7</td>\n",
       "      <td>5.175361</td>\n",
       "      <td>-0.009819</td>\n",
       "      <td>2.600021</td>\n",
       "      <td>-0.621296</td>\n",
       "      <td>2.496096</td>\n",
       "      <td>-0.106432</td>\n",
       "      <td>-0.704130</td>\n",
       "      <td>-0.331343</td>\n",
       "    </tr>\n",
       "    <tr>\n",
       "      <th>5</th>\n",
       "      <td>14</td>\n",
       "      <td>1.754643</td>\n",
       "      <td>-0.503066</td>\n",
       "      <td>2.194804</td>\n",
       "      <td>-0.621296</td>\n",
       "      <td>-0.870569</td>\n",
       "      <td>-0.106432</td>\n",
       "      <td>0.740777</td>\n",
       "      <td>-0.331343</td>\n",
       "    </tr>\n",
       "    <tr>\n",
       "      <th>8</th>\n",
       "      <td>21</td>\n",
       "      <td>0.777295</td>\n",
       "      <td>-0.597282</td>\n",
       "      <td>0.220406</td>\n",
       "      <td>-0.621296</td>\n",
       "      <td>0.812763</td>\n",
       "      <td>-0.897855</td>\n",
       "      <td>1.222413</td>\n",
       "      <td>-0.331343</td>\n",
       "    </tr>\n",
       "  </tbody>\n",
       "</table>\n",
       "</div>"
      ],
      "text/plain": [
       "   user_location_city  duration  days_in_advance  orig_destination_distance  \\\n",
       "0                   0 -0.688726         0.444634                   0.313666   \n",
       "2                   3  0.563500         0.648714                   1.019360   \n",
       "3                   7  5.175361        -0.009819                   2.600021   \n",
       "5                  14  1.754643        -0.503066                   2.194804   \n",
       "8                  21  0.777295        -0.597282                   0.220406   \n",
       "\n",
       "   is_mobile  is_package  srch_adults_cnt  srch_children_cnt  srch_rm_cnt  \n",
       "0  -0.621296   -0.028903        -0.502143          -0.704130    -0.331343  \n",
       "2  -0.347906    0.119627        -0.199541           0.202478    -0.331343  \n",
       "3  -0.621296    2.496096        -0.106432          -0.704130    -0.331343  \n",
       "5  -0.621296   -0.870569        -0.106432           0.740777    -0.331343  \n",
       "8  -0.621296    0.812763        -0.897855           1.222413    -0.331343  "
      ]
     },
     "execution_count": 42,
     "metadata": {},
     "output_type": "execute_result"
    }
   ],
   "source": [
    "df_clustering_std = df_clustering_groups.copy()\n",
    "\n",
    "df_clustering_std[features_to_explore] = preprocessing.scale(df_clustering_std[features_to_explore])\n",
    "\n",
    "df_clustering_std.head()"
   ]
  },
  {
   "cell_type": "markdown",
   "metadata": {
    "id": "0qzJMfWK4TRg"
   },
   "source": [
    "# Step 3: Implement clustering via K-means\n",
    "\n",
    "Let's start K-means clustering and initially select K=3!\n",
    "Creating `cluster` column for the same dataset"
   ]
  },
  {
   "cell_type": "code",
   "execution_count": 45,
   "metadata": {
    "colab": {
     "base_uri": "https://localhost:8080/"
    },
    "executionInfo": {
     "elapsed": 1117,
     "status": "ok",
     "timestamp": 1683273507976,
     "user": {
      "displayName": "Anahit Doshoyan",
      "userId": "09573357001785357894"
     },
     "user_tz": -240
    },
    "id": "AE4A68tL_viF",
    "outputId": "1cbdc2cc-4b62-4365-a362-a488930c45aa"
   },
   "outputs": [],
   "source": [
    "km = cluster.KMeans(n_clusters=3, max_iter=300, random_state=123)\n",
    "df_clustering_std['cluster'] = km.fit_predict(df_clustering_std[features_to_explore])"
   ]
  },
  {
   "cell_type": "markdown",
   "metadata": {
    "id": "ILVvIg0b4ECT"
   },
   "source": [
    "### How do Visualize the result of the clustering?"
   ]
  },
  {
   "cell_type": "code",
   "execution_count": 46,
   "metadata": {
    "colab": {
     "base_uri": "https://localhost:8080/",
     "height": 430
    },
    "executionInfo": {
     "elapsed": 748,
     "status": "ok",
     "timestamp": 1683273514987,
     "user": {
      "displayName": "Anahit Doshoyan",
      "userId": "09573357001785357894"
     },
     "user_tz": -240
    },
    "id": "4rv79kBY4ECT",
    "outputId": "fb8c1be2-adee-45aa-a7be-c8caa97e51ec"
   },
   "outputs": [
    {
     "data": {
      "image/png": "[encoded data removed]",
      "text/plain": [
       "<Figure size 640x480 with 1 Axes>"
      ]
     },
     "metadata": {},
     "output_type": "display_data"
    }
   ],
   "source": [
    "# Principal Component Analysis for Visualization\n",
    "pca = decomposition.PCA(n_components=2, whiten=True)\n",
    "#pca.fit(city_groups[features_to_explore])\n",
    "df_clustering_std['x'] = pca.fit_transform(df_clustering_std[features_to_explore])[:, 0]\n",
    "df_clustering_std['y'] = pca.fit_transform(df_clustering_std[features_to_explore])[:, 1]\n",
    "plt.scatter(df_clustering_std['x'], df_clustering_std['y'], c=df_clustering_std['cluster'])\n",
    "plt.show()"
   ]
  },
  {
   "cell_type": "code",
   "execution_count": 54,
   "metadata": {
    "colab": {
     "base_uri": "https://localhost:8080/",
     "height": 486
    },
    "executionInfo": {
     "elapsed": 1582,
     "status": "ok",
     "timestamp": 1683273517743,
     "user": {
      "displayName": "Anahit Doshoyan",
      "userId": "09573357001785357894"
     },
     "user_tz": -240
    },
    "id": "Y35xe40IZCuD",
    "outputId": "2c4286d6-2d00-489c-bb18-9ac57b78411e"
   },
   "outputs": [
    {
     "data": {
      "image/png": "[encoded data removed]",
      "text/plain": [
       "<Figure size 640x480 with 1 Axes>"
      ]
     },
     "metadata": {},
     "output_type": "display_data"
    }
   ],
   "source": [
    "#Let's try it now with 2 clusters\n",
    "\n",
    "km = cluster.KMeans(n_clusters=2, max_iter=300, random_state=None)\n",
    "df_clustering_std['cluster'] = km.fit_predict(df_clustering_std[features_to_explore])\n",
    "\n",
    "# Principal Component Analysis for Visualization\n",
    "pca = decomposition.PCA(n_components=2, whiten=True)\n",
    "df_clustering_std['x'] = pca.fit_transform(df_clustering_std[features_to_explore])[:, 0]\n",
    "df_clustering_std['y'] = pca.fit_transform(df_clustering_std[features_to_explore])[:, 1]\n",
    "plt.scatter(df_clustering_std['x'], df_clustering_std['y'], c=df_clustering_std['cluster'])\n",
    "plt.show()"
   ]
  },
  {
   "cell_type": "code",
   "execution_count": 47,
   "metadata": {
    "colab": {
     "base_uri": "https://localhost:8080/",
     "height": 486
    },
    "executionInfo": {
     "elapsed": 1633,
     "status": "ok",
     "timestamp": 1683273521536,
     "user": {
      "displayName": "Anahit Doshoyan",
      "userId": "09573357001785357894"
     },
     "user_tz": -240
    },
    "id": "sAqyT0UiZKrQ",
    "outputId": "ad2162c2-b47c-4416-89a4-d3ee4b3bc60f"
   },
   "outputs": [
    {
     "data": {
      "image/png": "[encoded data removed]",
      "text/plain": [
       "<Figure size 640x480 with 1 Axes>"
      ]
     },
     "metadata": {},
     "output_type": "display_data"
    }
   ],
   "source": [
    "# Now with 4\n",
    "km = cluster.KMeans(n_clusters=4, max_iter=300, random_state=None)\n",
    "df_clustering_std['cluster'] = km.fit_predict(df_clustering_std[features_to_explore])\n",
    "\n",
    "# Principal Component Analysis for Visualization\n",
    "pca = decomposition.PCA(n_components=2, whiten=True)\n",
    "df_clustering_std['x'] = pca.fit_transform(df_clustering_std[features_to_explore])[:, 0]\n",
    "df_clustering_std['y'] = pca.fit_transform(df_clustering_std[features_to_explore])[:, 1]\n",
    "plt.scatter(df_clustering_std['x'], df_clustering_std['y'], c=df_clustering_std['cluster'])\n",
    "plt.show()"
   ]
  },
  {
   "cell_type": "code",
   "execution_count": 48,
   "metadata": {
    "colab": {
     "base_uri": "https://localhost:8080/",
     "height": 486
    },
    "executionInfo": {
     "elapsed": 1298,
     "status": "ok",
     "timestamp": 1683273530099,
     "user": {
      "displayName": "Anahit Doshoyan",
      "userId": "09573357001785357894"
     },
     "user_tz": -240
    },
    "id": "RUbJHVdcbvLs",
    "outputId": "800572dd-4134-42a9-a15a-0e7b0cc0ce71"
   },
   "outputs": [
    {
     "data": {
      "image/png": "[encoded data removed]",
      "text/plain": [
       "<Figure size 640x480 with 1 Axes>"
      ]
     },
     "metadata": {},
     "output_type": "display_data"
    }
   ],
   "source": [
    "# Now with 6\n",
    "\n",
    "km = cluster.KMeans(n_clusters=6, max_iter=300, random_state=None)\n",
    "df_clustering_std['cluster'] = km.fit_predict(df_clustering_std[features_to_explore])\n",
    "\n",
    "# Principal Component Analysis for Visualization\n",
    "pca = decomposition.PCA(n_components=2, whiten=True)\n",
    "df_clustering_std['x'] = pca.fit_transform(df_clustering_std[features_to_explore])[:, 0]\n",
    "df_clustering_std['y'] = pca.fit_transform(df_clustering_std[features_to_explore])[:, 1]\n",
    "plt.scatter(df_clustering_std['x'], df_clustering_std['y'], c=df_clustering_std['cluster'])\n",
    "plt.show()"
   ]
  },
  {
   "cell_type": "markdown",
   "metadata": {
    "id": "OKwyI5AR4ECV"
   },
   "source": [
    "# Optimal number of clusters\n",
    "\n",
    "Two find the optimal number of clusters we can user below two methods:\n",
    "\n",
    "- Elbow Method\n",
    "- Silhouette Coefficient"
   ]
  },
  {
   "cell_type": "markdown",
   "metadata": {
    "id": "cmzDk2yWxVYH"
   },
   "source": [
    "# Let's attempt to use the Elbow Method"
   ]
  },
  {
   "cell_type": "code",
   "execution_count": 49,
   "metadata": {
    "colab": {
     "base_uri": "https://localhost:8080/",
     "height": 778
    },
    "executionInfo": {
     "elapsed": 6227,
     "status": "ok",
     "timestamp": 1683273541465,
     "user": {
      "displayName": "Anahit Doshoyan",
      "userId": "09573357001785357894"
     },
     "user_tz": -240
    },
    "id": "Yzwm-ztEw_5p",
    "outputId": "5f4bbc8c-e8c3-42e2-cd97-b0142ad0eb37"
   },
   "outputs": [
    {
     "data": {
      "image/png": "[encoded data removed]",
      "text/plain": [
       "<Figure size 640x480 with 1 Axes>"
      ]
     },
     "metadata": {},
     "output_type": "display_data"
    }
   ],
   "source": [
    "from sklearn.cluster import KMeans\n",
    "\n",
    "Sum_of_squared_distances = []\n",
    "\n",
    "# Use k from 1 to 15\n",
    "K = range(2,10)\n",
    "for k in K:\n",
    "    km = KMeans(n_clusters=k, max_iter=300, random_state=None)\n",
    "    km = km.fit(df_clustering_std[features_to_explore])\n",
    "    # Get sum of square distances by applying km.inertia_ \n",
    "    Sum_of_squared_distances.append(km.inertia_)\n",
    "\n",
    "# Plot Results\n",
    "plt.plot(K, Sum_of_squared_distances, marker='o')\n",
    "plt.xlabel('k')\n",
    "plt.ylabel('Sum_of_squared_distances')\n",
    "plt.title('Elbow Method For Optimal k')\n",
    "plt.show()"
   ]
  },
  {
   "cell_type": "markdown",
   "metadata": {
    "id": "5jdIvaRPywOG"
   },
   "source": [
    "# Let's try to use the Silhouette Coefficient"
   ]
  },
  {
   "cell_type": "code",
   "execution_count": 50,
   "metadata": {
    "colab": {
     "base_uri": "https://localhost:8080/"
    },
    "executionInfo": {
     "elapsed": 11607,
     "status": "ok",
     "timestamp": 1683273553067,
     "user": {
      "displayName": "Anahit Doshoyan",
      "userId": "09573357001785357894"
     },
     "user_tz": -240
    },
    "id": "U4I9B7GyxSu0",
    "outputId": "ea702348-f496-47a4-f5d7-6374787209c7"
   },
   "outputs": [
    {
     "name": "stdout",
     "output_type": "stream",
     "text": [
      "For n_clusters=2, The Silhouette Coefficient is 0.22804101675677566\n",
      "For n_clusters=3, The Silhouette Coefficient is 0.26963792716218826\n",
      "For n_clusters=4, The Silhouette Coefficient is 0.24430129001703535\n",
      "For n_clusters=5, The Silhouette Coefficient is 0.2550467758933517\n",
      "For n_clusters=6, The Silhouette Coefficient is 0.149246454359481\n",
      "For n_clusters=7, The Silhouette Coefficient is 0.15424841192516872\n",
      "For n_clusters=8, The Silhouette Coefficient is 0.16476168589854784\n",
      "For n_clusters=9, The Silhouette Coefficient is 0.16709833326874074\n",
      "For n_clusters=10, The Silhouette Coefficient is 0.17662671509026104\n"
     ]
    }
   ],
   "source": [
    "from sklearn.metrics import silhouette_samples,silhouette_score\n",
    "from sklearn.cluster import KMeans\n",
    "\n",
    "for n_cluster in range(2, 11):\n",
    "    kmeans = KMeans(n_clusters=n_cluster).fit(df_clustering_std[features_to_explore])\n",
    "    label = kmeans.labels_\n",
    "    sil_coeff = silhouette_score(df_clustering_std[features_to_explore], label, metric='euclidean')\n",
    "    print(\"For n_clusters={}, The Silhouette Coefficient is {}\".format(n_cluster, sil_coeff))"
   ]
  },
  {
   "cell_type": "markdown",
   "metadata": {
    "id": "-Tkz1dgty40R"
   },
   "source": [
    "# Let's stick with K=3"
   ]
  },
  {
   "cell_type": "code",
   "execution_count": 51,
   "metadata": {
    "colab": {
     "base_uri": "https://localhost:8080/",
     "height": 486
    },
    "executionInfo": {
     "elapsed": 1382,
     "status": "ok",
     "timestamp": 1683273554446,
     "user": {
      "displayName": "Anahit Doshoyan",
      "userId": "09573357001785357894"
     },
     "user_tz": -240
    },
    "id": "5rOUFNKbZPRN",
    "outputId": "00152f2a-ca05-4690-db8e-406918a8dee3"
   },
   "outputs": [
    {
     "data": {
      "image/png": "[encoded data removed]",
      "text/plain": [
       "<Figure size 640x480 with 1 Axes>"
      ]
     },
     "metadata": {},
     "output_type": "display_data"
    }
   ],
   "source": [
    "km = cluster.KMeans(n_clusters=3, max_iter=300, random_state=None)\n",
    "df_clustering_std['cluster'] = km.fit_predict(df_clustering_std[features_to_explore])\n",
    "\n",
    "# Principal Component Analysis for Visualization\n",
    "pca = decomposition.PCA(n_components=2, whiten=True)\n",
    "pca.fit(df_clustering_std[features_to_explore])\n",
    "df_clustering_std['x'] = pca.fit_transform(df_clustering_std[features_to_explore])[:, 0]\n",
    "df_clustering_std['y'] = pca.fit_transform(df_clustering_std[features_to_explore])[:, 1]\n",
    "plt.scatter(df_clustering_std['x'], df_clustering_std['y'], c=df_clustering_std['cluster'])\n",
    "plt.show()"
   ]
  },
  {
   "cell_type": "markdown",
   "metadata": {
    "id": "WhEPTOCw4PW7"
   },
   "source": [
    "# Step 4: Profile and Inspect our 3 clusters"
   ]
  },
  {
   "cell_type": "code",
   "execution_count": 52,
   "metadata": {
    "colab": {
     "base_uri": "https://localhost:8080/",
     "height": 239
    },
    "executionInfo": {
     "elapsed": 7,
     "status": "ok",
     "timestamp": 1683273554447,
     "user": {
      "displayName": "Anahit Doshoyan",
      "userId": "09573357001785357894"
     },
     "user_tz": -240
    },
    "id": "BxlRJe7XEWKf",
    "outputId": "c075e814-ec0f-4a18-b918-b6e16b4b6037"
   },
   "outputs": [
    {
     "data": {
      "text/html": [
       "<div>\n",
       "<style scoped>\n",
       "    .dataframe tbody tr th:only-of-type {\n",
       "        vertical-align: middle;\n",
       "    }\n",
       "\n",
       "    .dataframe tbody tr th {\n",
       "        vertical-align: top;\n",
       "    }\n",
       "\n",
       "    .dataframe thead th {\n",
       "        text-align: right;\n",
       "    }\n",
       "</style>\n",
       "<table border=\"1\" class=\"dataframe\">\n",
       "  <thead>\n",
       "    <tr style=\"text-align: right;\">\n",
       "      <th></th>\n",
       "      <th>duration</th>\n",
       "      <th>days_in_advance</th>\n",
       "      <th>orig_destination_distance</th>\n",
       "      <th>is_mobile</th>\n",
       "      <th>is_package</th>\n",
       "      <th>srch_adults_cnt</th>\n",
       "      <th>srch_children_cnt</th>\n",
       "      <th>srch_rm_cnt</th>\n",
       "      <th>user_location_city</th>\n",
       "    </tr>\n",
       "    <tr>\n",
       "      <th>cluster</th>\n",
       "      <th></th>\n",
       "      <th></th>\n",
       "      <th></th>\n",
       "      <th></th>\n",
       "      <th></th>\n",
       "      <th></th>\n",
       "      <th></th>\n",
       "      <th></th>\n",
       "      <th></th>\n",
       "    </tr>\n",
       "  </thead>\n",
       "  <tbody>\n",
       "    <tr>\n",
       "      <th>0</th>\n",
       "      <td>3.186969</td>\n",
       "      <td>52.273648</td>\n",
       "      <td>1809.729645</td>\n",
       "      <td>0.138451</td>\n",
       "      <td>0.235058</td>\n",
       "      <td>2.026611</td>\n",
       "      <td>0.353672</td>\n",
       "      <td>1.097546</td>\n",
       "      <td>28012.103429</td>\n",
       "    </tr>\n",
       "    <tr>\n",
       "      <th>1</th>\n",
       "      <td>4.485058</td>\n",
       "      <td>86.595650</td>\n",
       "      <td>3334.557763</td>\n",
       "      <td>0.128036</td>\n",
       "      <td>0.358237</td>\n",
       "      <td>2.035111</td>\n",
       "      <td>0.338569</td>\n",
       "      <td>1.102957</td>\n",
       "      <td>28083.269271</td>\n",
       "    </tr>\n",
       "    <tr>\n",
       "      <th>2</th>\n",
       "      <td>3.232000</td>\n",
       "      <td>59.189516</td>\n",
       "      <td>1584.538118</td>\n",
       "      <td>0.104000</td>\n",
       "      <td>0.208000</td>\n",
       "      <td>3.864000</td>\n",
       "      <td>0.516000</td>\n",
       "      <td>2.312000</td>\n",
       "      <td>30540.652000</td>\n",
       "    </tr>\n",
       "  </tbody>\n",
       "</table>\n",
       "</div>"
      ],
      "text/plain": [
       "         duration  days_in_advance  orig_destination_distance  is_mobile  \\\n",
       "cluster                                                                    \n",
       "0        3.186969        52.273648                1809.729645   0.138451   \n",
       "1        4.485058        86.595650                3334.557763   0.128036   \n",
       "2        3.232000        59.189516                1584.538118   0.104000   \n",
       "\n",
       "         is_package  srch_adults_cnt  srch_children_cnt  srch_rm_cnt  \\\n",
       "cluster                                                                \n",
       "0          0.235058         2.026611           0.353672     1.097546   \n",
       "1          0.358237         2.035111           0.338569     1.102957   \n",
       "2          0.208000         3.864000           0.516000     2.312000   \n",
       "\n",
       "         user_location_city  \n",
       "cluster                      \n",
       "0              28012.103429  \n",
       "1              28083.269271  \n",
       "2              30540.652000  "
      ]
     },
     "execution_count": 52,
     "metadata": {},
     "output_type": "execute_result"
    }
   ],
   "source": [
    "# We will merge the two dataframes based on a common column user_location_city\n",
    "df_clustering.merge(df_clustering_std[['user_location_city', 'cluster']]).groupby('cluster').mean() # for every column"
   ]
  },
  {
   "cell_type": "code",
   "execution_count": 53,
   "metadata": {
    "colab": {
     "base_uri": "https://localhost:8080/"
    },
    "executionInfo": {
     "elapsed": 5,
     "status": "ok",
     "timestamp": 1683274704147,
     "user": {
      "displayName": "Anahit Doshoyan",
      "userId": "09573357001785357894"
     },
     "user_tz": -240
    },
    "id": "jUcy_1J3_V2B",
    "outputId": "43095c5b-af17-460d-ec05-ef94e1b07edf"
   },
   "outputs": [
    {
     "data": {
      "text/plain": [
       "['duration',\n",
       " 'days_in_advance',\n",
       " 'orig_destination_distance',\n",
       " 'is_mobile',\n",
       " 'is_package',\n",
       " 'srch_adults_cnt',\n",
       " 'srch_children_cnt',\n",
       " 'srch_rm_cnt',\n",
       " 'user_location_city']"
      ]
     },
     "execution_count": 53,
     "metadata": {},
     "output_type": "execute_result"
    }
   ],
   "source": [
    "list(df_clustering.merge(df_clustering_std[['user_location_city', 'cluster']]).groupby('cluster').mean().columns)"
   ]
  },
  {
   "cell_type": "markdown",
   "metadata": {
    "id": "2PRJEyOOEXc7"
   },
   "source": [
    "# Segmentation\n",
    "\n",
    "**Group Number:** YourNumber "
   ]
  },
  {
   "cell_type": "markdown",
   "metadata": {
    "id": "14LXFkRC-Arn"
   },
   "source": [
    "\n",
    "\n",
    "\n",
    "\n"
   ]
  },
  {
   "cell_type": "markdown",
   "metadata": {
    "id": "He9NunhE_HFr"
   },
   "source": []
  },
  {
   "cell_type": "markdown",
   "metadata": {
    "id": "B08aWt4aAhgV"
   },
   "source": []
  },
  {
   "cell_type": "markdown",
   "metadata": {
    "id": "Hioee5jRBLEQ"
   },
   "source": []
  },
  {
   "cell_type": "markdown",
   "metadata": {
    "id": "Z4NSE0LDB7xQ"
   },
   "source": []
  },
  {
   "cell_type": "code",
   "execution_count": null,
   "metadata": {
    "id": "J_NItmvOB5E9"
   },
   "outputs": [],
   "source": []
  },
  {
   "cell_type": "code",
   "execution_count": null,
   "metadata": {
    "id": "AGmmiGt-9j80"
   },
   "outputs": [],
   "source": []
  }
 ],
 "metadata": {
  "colab": {
   "provenance": []
  },
  "kernelspec": {
   "display_name": "Python 3 (ipykernel)",
   "language": "python",
   "name": "python3"
  },
  "language_info": {
   "codemirror_mode": {
    "name": "ipython",
    "version": 3
   },
   "file_extension": ".py",
   "mimetype": "text/x-python",
   "name": "python",
   "nbconvert_exporter": "python",
   "pygments_lexer": "ipython3",
   "version": "3.10.7"
  }
 },
 "nbformat": 4,
 "nbformat_minor": 4
}
